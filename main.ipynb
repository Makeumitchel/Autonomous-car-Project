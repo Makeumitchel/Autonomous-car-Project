{
  "nbformat": 4,
  "nbformat_minor": 0,
  "metadata": {
    "colab": {
      "name": "main.ipynb",
      "provenance": [],
      "collapsed_sections": [],
      "toc_visible": true
    },
    "kernelspec": {
      "name": "python3",
      "display_name": "Python 3"
    },
    "accelerator": "GPU"
  },
  "cells": [
    {
      "cell_type": "code",
      "metadata": {
        "id": "HjN5ukZizhz4",
        "colab": {
          "base_uri": "https://localhost:8080/"
        },
        "outputId": "862939cd-3213-45b3-b784-3b3f961127a1"
      },
      "source": [
        "from google.colab import drive\n",
        "drive.mount('/content/drive')\n",
        "\n",
        "import cv2\n",
        "import os\n",
        "import time\n",
        "import pandas as pd\n",
        "import numpy as np\n",
        "import matplotlib.pyplot as plt\n",
        "import tensorflow as tf\n",
        "import keras\n",
        "%cd /content/drive/MyDrive/MSc Computational Neuroscience, Cognition & AI/MLis2/ML Project/code/YOLOv3_TF2/\n",
        "\n",
        "\n",
        "from yolov3_tf2.utils import draw_outputs\n",
        "from yolov3_tf2.yolo import YoloV3\n",
        "from yolov3_tf2.yolo_tiny import YoloV3Tiny\n"
      ],
      "execution_count": 1,
      "outputs": [
        {
          "output_type": "stream",
          "name": "stdout",
          "text": [
            "Mounted at /content/drive\n",
            "/content/drive/.shortcut-targets-by-id/1lVSXhv7tm507dxrIt3znhnHFrg6oJRq8/ML Project/code/YOLOv3_TF2\n"
          ]
        }
      ]
    },
    {
      "cell_type": "code",
      "metadata": {
        "id": "aTGOWDBrJbch"
      },
      "source": [
        "class Road:\n",
        "\n",
        "  def __init__(self, check=False):    \n",
        "    self.check=check\n",
        "    self.width, self.height, self.channels = 320, 240, 3\n",
        "    # object detection YOLO\n",
        "    self.yolo = YoloV3(classes=8, yolo_max_boxes=5, yolo_iou_threshold=0.2, yolo_score_threshold=0.6) #0.03\n",
        "    self.yolo.load_weights('./weights/yolo.tf').expect_partial()\n",
        "    #self.yolo = YoloV3Tiny(classes=8, yolo_max_boxes=5, yolo_iou_threshold=0.03, yolo_score_threshold=0.03) #0.03\n",
        "    #self.yolo.load_weights('./weights/yolo_tiny.tf').expect_partial()\n",
        "    # road segmentation UNET\n",
        "    self.H_unet=128\n",
        "    self.unet=keras.models.load_model('./weights/unet.h5', custom_objects={'dice_coefficient':0})\n",
        "    #angle prediction NVIDIA\n",
        "    self.H_nvidia, self.W_nvidia=88, 128\n",
        "    self.nvidia=keras.models.load_model('./weights/nvidia_0049.h5') #nvidia.h5\n",
        "    self.left=keras.models.load_model('./weights/left_0049.h5') # left.h5\n",
        "    self.right=keras.models.load_model('./weights/right_0049.h5') #right.h5\n",
        "    # init detection parameters\n",
        "    self.min_box_area=np.array([1500 ,8000, 800, 1800 ,600 , 800, 1800, 800])\n",
        "    self.class_names=['box','car', 'green light', 'left signal', 'person', 'red light', 'right signal', 'tree']\n",
        "\n",
        "  def Is_close(self, name, box):\n",
        "    xmin, ymin, xmax, ymax=box\n",
        "    area=(xmax-xmin)*(ymax-ymin)*(self.height*self.width)/self.H_unet**2\n",
        "    class_id=self.class_names.index(name)\n",
        "    threshold=self.min_box_area[class_id]\n",
        "    return (area>threshold)\n",
        "\n",
        "  def Is_obstacle(self,obstacles, road):\n",
        "    obj=np.zeros_like(road)\n",
        "    road_bbox=np.copy(road)*0.5\n",
        "    for box in obstacles:\n",
        "      xmin, ymin, xmax, ymax=box\n",
        "      road[ymin:ymax, xmin:xmax]+=0.3*np.ones_like(road[ymin:ymax, xmin:xmax])\n",
        "      yc=ymin+(ymax-ymin)//2\n",
        "      if (ymax-ymin)<(xmax-xmin):\n",
        "        yc=ymin\n",
        "      obj[yc:ymax, xmin:xmax]=1\n",
        "      union=np.sum(np.multiply(road, obj))/((ymax-yc)*(xmax-xmin))    \n",
        "      if union>0.20:\n",
        "        if self.check:\n",
        "          print('union=', union, 'box=', xmin,  xmax, ymin, ymax)\n",
        "          fig, axs=plt.subplots(nrows=1, ncols=2)\n",
        "          axs[1].imshow(road); axs[0].imshow(road_bbox)  \n",
        "        return True\n",
        "    return False\n",
        "\n",
        "  def Angle(self, img, Left, Right):\n",
        "    img = cv2.resize(img, ( self.H_unet,self.H_unet))\n",
        "    img=np.reshape(img, (1, self.H_unet, self.H_unet,3))\n",
        "    lanes=self.unet.predict(img)\n",
        "    lanes=np.reshape(lanes, (self. H_unet, self.H_unet))\n",
        "    crop=self.H_unet-self.H_nvidia\n",
        "    mask =lanes[crop: , :self.W_nvidia]\n",
        "    mask =np.reshape(mask , (1, self.H_nvidia, self.W_nvidia, 1) )\n",
        "    if Left or Right:\n",
        "      if Left:\n",
        "        angle=self.left.predict(mask)\n",
        "      if Right:\n",
        "        angle=self.right.predict(mask)\n",
        "    else:\n",
        "      angle=self.nvidia.predict(mask)\n",
        "    angle=min(float(angle), 1)\n",
        "    angle=max(float(angle), 0)\n",
        "    return angle, lanes\n",
        "\n",
        "  def Is_end_road(self, lanes, angle):\n",
        "    mask=lanes[:-10, :]>0.6\n",
        "    THR=7\n",
        "    if angle<0.35:\n",
        "      S=np.sum(mask[:,:7])\n",
        "      horizon=np.sum(mask[:55,:])\n",
        "    if angle>0.65 :\n",
        "      S=np.sum(mask[:,-7:])\n",
        "      horizon=np.sum(mask[:55,:])\n",
        "    if (angle<0.65)*(angle>0.35):\n",
        "      horizon=np.sum(mask[:60,:])\n",
        "      S=np.sum(mask[:,self.H_unet//2-4:self.H_unet//2+4])\n",
        "    end=(S<THR)*(horizon<1)\n",
        "    if self.check:\n",
        "      print( 'End_road:',end, 'S=',S,'horizon=' , horizon)\n",
        "    return end\n",
        "    \n",
        "  def Object(self,img_raw):\n",
        "    img_ = tf.expand_dims(img_raw, 0)\n",
        "    img_ = tf.image.resize(img_, (416, 416))\n",
        "    img_ = img_/ 255\n",
        "    boxes, scores, classes, nums = self.yolo(img_)     \n",
        "    new_boxes, new_classes, new_scores=[],[],[]\n",
        "    for i in range(nums[0]):\n",
        "      name=self.class_names[int(classes[0][i])]\n",
        "      new_classes.append(name)\n",
        "      new_scores.append(np.array(scores[0][i]))\n",
        "      new_boxes.append(np.array(boxes[0][i]))\n",
        "    converted_boxes=[]\n",
        "    for box in new_boxes:\n",
        "      x1, y1, x2, y2=box \n",
        "      xmin=abs(int(x1*self.H_unet))\n",
        "      xmax=abs(int(x2*self.H_unet))\n",
        "      ymin=abs(int(y1*self.H_unet))\n",
        "      ymax=abs(int(y2*self.H_unet))\n",
        "      xmin, ymax=max(1, xmin), min(self.H_unet-1 , ymax)\n",
        "      converted_boxes.append([xmin,ymin, xmax, ymax])\n",
        "    if self.check:\n",
        "      #to remove\n",
        "      image = cv2.cvtColor(img_raw, cv2.COLOR_RGB2BGR)\n",
        "      image= draw_outputs(image, (boxes, scores, classes, nums), self.class_names)\n",
        "      plt.imsave('/content/object_detection.png', image)\n",
        "      from IPython.display import Image, display\n",
        "      display(Image(data=bytes(cv2.imencode('.jpg', image)[1]), width=300))\n",
        "      print('score=', new_scores, 'classes=', new_classes, 'boxes=', converted_boxes)\n",
        "    return converted_boxes,new_classes, new_scores\n",
        " \n",
        "\n",
        "  def Mask(self, mask, angle, THR=0.7):\n",
        "    step=3\n",
        "    end_road=False\n",
        "    M,N=mask.shape[0], mask.shape[1]\n",
        "    new_mask=np.zeros((M,N))\n",
        "    x_start=(N//2)*(angle>0.35)*(angle<0.65)+(N//2-30)*(angle<0.35)+(N//2+30)*(angle>0.65)\n",
        "    prev_x1, prev_x2= 0, N\n",
        "    first_lane=False\n",
        "    for y in np.flip(np.arange(step, M-10, step)):\n",
        "      x1=0; x2=N\n",
        "      # find left lane\n",
        "      x=x_start\n",
        "      while (x>1)*(x1==0):\n",
        "        if mask[y,x]>THR:\n",
        "          x1=x\n",
        "        x-=1\n",
        "      # find right lane\n",
        "      x=x_start\n",
        "      while (x<N-1)*(x2==N):\n",
        "        if mask[y,x]>THR:\n",
        "          x2=x\n",
        "        x+=1\n",
        "      #update mask\n",
        "      if  (x1!=0) or (x2!=N):\n",
        "        first_lane=True\n",
        "        if (x1!=x2)*( abs(prev_x2-prev_x1)>0.8*abs(x2-x1) ):\n",
        "          x_start=(x1+x2)//2\n",
        "          prev_x1, prev_x2=x1,x2\n",
        "          new_mask[y:y+step, x1:x2]=1\n",
        "      # if no lanes met: all ones if never met; else end\n",
        "      else:\n",
        "        if (y>M//3)*(first_lane==False):\n",
        "          new_mask[y-step:y, x1:x2]=1\n",
        "        if (y<M//3):\n",
        "          break #return new_mask\n",
        "    if (abs(prev_x2-prev_x1)>40)*(abs(prev_x2-prev_x1)<N-1):\n",
        "      end_road=True\n",
        "    return new_mask #, end_road\n",
        "\n",
        "\n",
        "  def Predict(self, image):\n",
        "    img=image[:,:,:3]\n",
        "    speed, Left, Right, obstacles= 1, False, False, []\n",
        "    close, obstacle= False,  False\n",
        "    boxes, classes, scores =self.Object(img)\n",
        "    if len(boxes)!=0:\n",
        "      for box, name in zip(boxes, classes):\n",
        "        if self.Is_close(name, box):\n",
        "          close=True\n",
        "          if name=='red light':\n",
        "            speed=0\n",
        "          Left=(name=='left signal')\n",
        "          Right=(name=='right signal')\n",
        "          if name=='box' or name=='car' or name=='person' or name=='tree':\n",
        "            obstacles.append(box)\n",
        "    angle, lanes= self.Angle(img, Left, Right)\n",
        "    road=self.Mask(lanes, angle) #, end_road\n",
        "    if self.Is_obstacle(obstacles, road):\n",
        "      speed=0\n",
        "      obstacle=True\n",
        "    if self.Is_end_road(lanes, angle):\n",
        "      speed=0\n",
        "\n",
        "    if self.check:\n",
        "      print(' obstacle=', obstacle, ' is_close=', close) #, 'end_raod=', end_road)\n",
        "      print('PREDICTION : speed=', speed, 'angle=', angle)\n",
        "    return speed, angle\n",
        "\n",
        "road=Road()"
      ],
      "execution_count": 124,
      "outputs": []
    },
    {
      "cell_type": "markdown",
      "metadata": {
        "id": "jLEN7jnYGVr5"
      },
      "source": [
        "# Evaluate"
      ]
    },
    {
      "cell_type": "code",
      "metadata": {
        "id": "sw4Y-KsKv_hy",
        "colab": {
          "base_uri": "https://localhost:8080/"
        },
        "outputId": "3ef6e2d4-7e8d-4478-b3d6-ac7ebe9e0b43"
      },
      "source": [
        "code_dir='/content/drive/My Drive/MSc Computational Neuroscience, Cognition & AI/MLis2/ML Project/code'\n",
        "\n",
        "# test images\n",
        "dataset_dir= os.path.join(code_dir,'data/training_data')\n",
        "images_dir=os.path.join(dataset_dir, 'training_data')\n",
        "images_list = os.listdir(images_dir)\n",
        "print(len(images_list), images_list[:20])\n",
        "# target values\n",
        "dataframe = pd.read_csv(code_dir+\"/YOLOv3_TF2/data/training_norm.csv\")\n",
        "dataset = np.array(dataframe.values)\n",
        "SPEED=np.array(dataset[:, 2], dtype=int)\n",
        "ANGLE=np.array(dataset[:, 1 ], dtype=float)\n",
        "print(SPEED[:4], ANGLE[:4])"
      ],
      "execution_count": 3,
      "outputs": [
        {
          "output_type": "stream",
          "name": "stdout",
          "text": [
            "13810 ['9144.png', '9192.png', '911.png', '9129.png', '9139.png', '9063.png', '9079.png', '9194.png', '9207.png', '9095.png', '9145.png', '906.png', '9149.png', '9146.png', '9141.png', '9108.png', '9185.png', '9061.png', '903.png', '9105.png']\n",
            "[0 1 1 1] [0.4375 0.8125 0.4375 0.625 ]\n"
          ]
        }
      ]
    },
    {
      "cell_type": "code",
      "metadata": {
        "id": "girsxhZL7g_C"
      },
      "source": [
        "road=Road(check=True)"
      ],
      "execution_count": 125,
      "outputs": []
    },
    {
      "cell_type": "code",
      "metadata": {
        "id": "pS5JE7gm94c4",
        "colab": {
          "base_uri": "https://localhost:8080/",
          "height": 564
        },
        "outputId": "891d6017-4be0-41e0-ab09-b09acc2a8132"
      },
      "source": [
        "n=np.random.randint(1,len(images_list))\n",
        "\n",
        "img_path=os.path.join(images_dir,str(n)+'.png')\n",
        "img = cv2.imread(img_path)\n",
        "t1=time.perf_counter()\n",
        "speed, angle=road.Predict(img)\n",
        "t2=time.perf_counter()\n",
        "print('TARGET: speed=', SPEED[n-1], 'angle=', ANGLE[n-1])\n",
        "print('image',n)\n",
        "print('inference time=', t2-t1)"
      ],
      "execution_count": 129,
      "outputs": [
        {
          "output_type": "display_data",
          "data": {
            "image/jpeg": "[encoded data removed]",
            "text/plain": [
              "<IPython.core.display.Image object>"
            ]
          },
          "metadata": {
            "image/jpeg": {
              "width": 300
            }
          }
        },
        {
          "output_type": "stream",
          "name": "stdout",
          "text": [
            "score= [array(0.9544395, dtype=float32)] classes= ['person'] boxes= [[70, 38, 98, 113]]\n",
            "union= 1.0321428571428573 box= 70 98 38 113\n",
            "End_road: False S= 86 horizon= 0\n",
            " obstacle= True  is_close= True\n",
            "PREDICTION : speed= 0 angle= 0.6735635995864868\n",
            "TARGET: speed= 0 angle= 0.5625\n",
            "image 5828\n",
            "inference time= 0.2695519020003303\n"
          ]
        },
        {
          "output_type": "display_data",
          "data": {
            "image/png": "[encoded data removed]",
            "text/plain": [
              "<Figure size 432x288 with 2 Axes>"
            ]
          },
          "metadata": {
            "needs_background": "light"
          }
        }
      ]
    }
  ]
}