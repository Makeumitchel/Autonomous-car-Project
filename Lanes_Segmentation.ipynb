{
  "nbformat": 4,
  "nbformat_minor": 0,
  "metadata": {
    "accelerator": "GPU",
    "colab": {
      "name": "Lanes_Segmentation.ipynb",
      "provenance": [],
      "collapsed_sections": [
        "Di_LKUOPthKu",
        "HdNiDO2DfSNm",
        "RGXXVJ8WdkHY",
        "kk18al9qfBCC",
        "h9zkaoGMH8O8"
      ],
      "toc_visible": true,
      "machine_shape": "hm"
    },
    "kernelspec": {
      "display_name": "Python 3",
      "name": "python3"
    },
    "language_info": {
      "name": "python"
    }
  },
  "cells": [
    {
      "cell_type": "code",
      "metadata": {
        "colab": {
          "base_uri": "https://localhost:8080/"
        },
        "id": "MhLjoB3Gx26-",
        "outputId": "848bfbc3-9a66-4166-ce46-0b94830f9922"
      },
      "source": [
        "!pip install keras-tuner"
      ],
      "execution_count": null,
      "outputs": [
        {
          "output_type": "stream",
          "text": [
            "Collecting keras-tuner\n",
            "\u001b[?25l  Downloading https://files.pythonhosted.org/packages/20/ec/1ef246787174b1e2bb591c95f29d3c1310070cad877824f907faba3dade9/keras-tuner-1.0.2.tar.gz (62kB)\n",
            "\r\u001b[K     |█████▏                          | 10kB 18.7MB/s eta 0:00:01\r\u001b[K     |██████████▍                     | 20kB 11.4MB/s eta 0:00:01\r\u001b[K     |███████████████▋                | 30kB 9.3MB/s eta 0:00:01\r\u001b[K     |████████████████████▉           | 40kB 8.5MB/s eta 0:00:01\r\u001b[K     |██████████████████████████      | 51kB 5.0MB/s eta 0:00:01\r\u001b[K     |███████████████████████████████▎| 61kB 5.1MB/s eta 0:00:01\r\u001b[K     |████████████████████████████████| 71kB 3.9MB/s \n",
            "\u001b[?25hRequirement already satisfied: packaging in /usr/local/lib/python3.7/dist-packages (from keras-tuner) (20.9)\n",
            "Requirement already satisfied: future in /usr/local/lib/python3.7/dist-packages (from keras-tuner) (0.16.0)\n",
            "Requirement already satisfied: numpy in /usr/local/lib/python3.7/dist-packages (from keras-tuner) (1.19.5)\n",
            "Requirement already satisfied: tabulate in /usr/local/lib/python3.7/dist-packages (from keras-tuner) (0.8.9)\n",
            "Collecting terminaltables\n",
            "  Downloading https://files.pythonhosted.org/packages/9b/c4/4a21174f32f8a7e1104798c445dacdc1d4df86f2f26722767034e4de4bff/terminaltables-3.1.0.tar.gz\n",
            "Collecting colorama\n",
            "  Downloading https://files.pythonhosted.org/packages/44/98/5b86278fbbf250d239ae0ecb724f8572af1c91f4a11edf4d36a206189440/colorama-0.4.4-py2.py3-none-any.whl\n",
            "Requirement already satisfied: tqdm in /usr/local/lib/python3.7/dist-packages (from keras-tuner) (4.41.1)\n",
            "Requirement already satisfied: requests in /usr/local/lib/python3.7/dist-packages (from keras-tuner) (2.23.0)\n",
            "Requirement already satisfied: scipy in /usr/local/lib/python3.7/dist-packages (from keras-tuner) (1.4.1)\n",
            "Requirement already satisfied: scikit-learn in /usr/local/lib/python3.7/dist-packages (from keras-tuner) (0.22.2.post1)\n",
            "Requirement already satisfied: pyparsing>=2.0.2 in /usr/local/lib/python3.7/dist-packages (from packaging->keras-tuner) (2.4.7)\n",
            "Requirement already satisfied: urllib3!=1.25.0,!=1.25.1,<1.26,>=1.21.1 in /usr/local/lib/python3.7/dist-packages (from requests->keras-tuner) (1.24.3)\n",
            "Requirement already satisfied: idna<3,>=2.5 in /usr/local/lib/python3.7/dist-packages (from requests->keras-tuner) (2.10)\n",
            "Requirement already satisfied: certifi>=2017.4.17 in /usr/local/lib/python3.7/dist-packages (from requests->keras-tuner) (2020.12.5)\n",
            "Requirement already satisfied: chardet<4,>=3.0.2 in /usr/local/lib/python3.7/dist-packages (from requests->keras-tuner) (3.0.4)\n",
            "Requirement already satisfied: joblib>=0.11 in /usr/local/lib/python3.7/dist-packages (from scikit-learn->keras-tuner) (1.0.1)\n",
            "Building wheels for collected packages: keras-tuner, terminaltables\n",
            "  Building wheel for keras-tuner (setup.py) ... \u001b[?25l\u001b[?25hdone\n",
            "  Created wheel for keras-tuner: filename=keras_tuner-1.0.2-cp37-none-any.whl size=78938 sha256=5db1a6a02212bcb440d01d00c23022d874961a9e19c61151abc87fabaf2ed60f\n",
            "  Stored in directory: /root/.cache/pip/wheels/bb/a1/8a/7c3de0efb3707a1701b36ebbfdbc4e67aedf6d4943a1f463d6\n",
            "  Building wheel for terminaltables (setup.py) ... \u001b[?25l\u001b[?25hdone\n",
            "  Created wheel for terminaltables: filename=terminaltables-3.1.0-cp37-none-any.whl size=15356 sha256=bd8a6f4793de2bb53a619b616b24b21cb1fa733c0bdf7a2962990783ce72a93c\n",
            "  Stored in directory: /root/.cache/pip/wheels/30/6b/50/6c75775b681fb36cdfac7f19799888ef9d8813aff9e379663e\n",
            "Successfully built keras-tuner terminaltables\n",
            "Installing collected packages: terminaltables, colorama, keras-tuner\n",
            "Successfully installed colorama-0.4.4 keras-tuner-1.0.2 terminaltables-3.1.0\n"
          ],
          "name": "stdout"
        }
      ]
    },
    {
      "cell_type": "code",
      "metadata": {
        "id": "FBXh-VEMt6jJ"
      },
      "source": [
        "import cv2\n",
        "from skimage.io import imread, imshow, imread_collection, concatenate_images\n",
        "from skimage.transform import resize\n",
        "import os\n",
        "import pandas as pd\n",
        "import numpy as np\n",
        "import matplotlib.pyplot as plt\n",
        "import tensorflow as tf\n",
        "import keras\n",
        "import time\n",
        "\n",
        "from keras.models import Sequential \n",
        "from keras.layers import Conv2D, MaxPool2D, Dropout, Flatten, Dense\n",
        "from keras.optimizers import Adam\n",
        "from keras.models import load_model\n",
        "from keras.callbacks import EarlyStopping, ModelCheckpoint\n",
        "\n",
        "from sklearn.model_selection import train_test_split\n"
      ],
      "execution_count": null,
      "outputs": []
    },
    {
      "cell_type": "code",
      "metadata": {
        "colab": {
          "base_uri": "https://localhost:8080/"
        },
        "id": "52m5vonouGLe",
        "outputId": "199f1029-72ac-451f-cff7-1f3cc21a995c"
      },
      "source": [
        "from google.colab import drive\n",
        "drive.mount('/content/drive')\n",
        "%cd /content/drive/MyDrive/MSc Computational Neuroscience, Cognition & AI/MLis2/ML Project/code/YOLOv3_TF2/"
      ],
      "execution_count": null,
      "outputs": [
        {
          "output_type": "stream",
          "text": [
            "Mounted at /content/drive\n",
            "/content/drive/.shortcut-targets-by-id/1lVSXhv7tm507dxrIt3znhnHFrg6oJRq8/ML Project/code/YOLOv3_TF2\n"
          ],
          "name": "stdout"
        }
      ]
    },
    {
      "cell_type": "code",
      "metadata": {
        "colab": {
          "base_uri": "https://localhost:8080/"
        },
        "id": "d83jg5gAuN8q",
        "outputId": "df88700f-9e36-42ba-956e-fa033024f4b7"
      },
      "source": [
        "code_dir='/content/drive/MyDrive/MSc Computational Neuroscience, Cognition & AI/MLis2/ML Project/code/'\n",
        "masks_dir=code_dir+'/data/training_data/training_masks/'\n",
        "masks_list=os.listdir(masks_dir)\n",
        "print(len(masks_list), masks_list[:5])\n",
        "\n",
        "# target values\n",
        "dataframe = pd.read_csv(code_dir+\"/YOLOv3_TF2/data/training_norm.csv\")\n",
        "dataset = np.array(dataframe.values)\n",
        "print(dataset[:5])\n",
        "MASK_HEIGHT, MASK_WIDTH= 128, 128\n",
        "INPUT_HEIGHT, INPUT_WIDTH= 88, 128"
      ],
      "execution_count": null,
      "outputs": [
        {
          "output_type": "stream",
          "text": [
            "13793 ['12799.npy', '12800.npy', '12801.npy', '12802.npy', '12803.npy']\n",
            "[[1.     0.4375 0.    ]\n",
            " [2.     0.8125 1.    ]\n",
            " [3.     0.4375 1.    ]\n",
            " [4.     0.625  1.    ]\n",
            " [5.     0.5    0.    ]]\n"
          ],
          "name": "stdout"
        }
      ]
    },
    {
      "cell_type": "markdown",
      "metadata": {
        "id": "E3JSF8jcvS5R"
      },
      "source": [
        "# Make dataset"
      ]
    },
    {
      "cell_type": "code",
      "metadata": {
        "colab": {
          "base_uri": "https://localhost:8080/"
        },
        "id": "E8-CmwKv-qH8",
        "outputId": "9bbd4593-10cf-4137-bff2-0e9aa75e6710"
      },
      "source": [
        "boxes_df = pd.read_csv(code_dir+\"YOLOv3_TF2/data/prediction_boxes.csv\", header=None)\n",
        "boxes= np.array(boxes_df.values) #box, car, green light, left signal, person, red light, right signal, tree\n",
        "print(boxes.shape)\n",
        "print(boxes[0])"
      ],
      "execution_count": null,
      "outputs": [
        {
          "output_type": "stream",
          "text": [
            "(13797, 32)\n",
            "[0.         0.         0.         0.         0.         0.\n",
            " 0.         0.         0.         0.         0.         0.\n",
            " 0.         0.         0.         0.         0.49118881 0.49458158\n",
            " 0.3445231  0.83723104 0.         0.         0.         0.\n",
            " 0.         0.         0.         0.         0.         0.\n",
            " 0.         0.        ]\n"
          ],
          "name": "stdout"
        }
      ]
    },
    {
      "cell_type": "code",
      "metadata": {
        "colab": {
          "base_uri": "https://localhost:8080/"
        },
        "id": "3s1JQQvutwcY",
        "outputId": "0bba1cfa-45a2-41d4-fc0f-83d523b6be4c"
      },
      "source": [
        "#nb of red and green lights ['box','car', 'green light', 'left signal', 'person', 'red light', 'right signal', 'tree']\n",
        "GREEN=boxes[:, 8:12]\n",
        "RED=boxes[:, 20:24]\n",
        "r,g=0,0\n",
        "for red, green in zip(RED, GREEN):\n",
        "  if np.sum(red)!=0:\n",
        "    r+=1\n",
        "  if np.sum(green)!=0:\n",
        "    g+=1\n",
        "print('nb of red signals=', r, 'nb of green signals=', g)"
      ],
      "execution_count": null,
      "outputs": [
        {
          "output_type": "stream",
          "text": [
            "nb of red signals= 137 nb of green signals= 102\n"
          ],
          "name": "stdout"
        }
      ]
    },
    {
      "cell_type": "code",
      "metadata": {
        "colab": {
          "base_uri": "https://localhost:8080/"
        },
        "id": "SVjKjZ7w-qH_",
        "outputId": "ca23b7c8-9d16-4b2c-e0a5-978b4d973c0a"
      },
      "source": [
        "# left signal, right signal\n",
        "left_boxes=boxes[:,12:16]\n",
        "right_boxes=boxes[:,24:28]\n",
        "print(left_boxes.shape, right_boxes.shape)"
      ],
      "execution_count": null,
      "outputs": [
        {
          "output_type": "stream",
          "text": [
            "(13797, 4) (13797, 4)\n"
          ],
          "name": "stdout"
        }
      ]
    },
    {
      "cell_type": "code",
      "metadata": {
        "colab": {
          "base_uri": "https://localhost:8080/",
          "height": 302
        },
        "id": "t9SehbpsV0tS",
        "outputId": "44f5d7ae-54f2-4e7d-cb06-0f650e7c9d79"
      },
      "source": [
        "# CHECK\n",
        "N=len(masks_list)\n",
        "print('nb of data', N)\n",
        "n=np.random.randint(N)\n",
        "mask_path=os.path.join(masks_dir, str(n)+'.npy')\n",
        "mask= np.load(mask_path)\n",
        "mask=mask[MASK_HEIGHT-INPUT_HEIGHT:, :INPUT_WIDTH]\n",
        "plt.imshow(mask)"
      ],
      "execution_count": null,
      "outputs": [
        {
          "output_type": "stream",
          "text": [
            "nb of data 13793\n"
          ],
          "name": "stdout"
        },
        {
          "output_type": "execute_result",
          "data": {
            "text/plain": [
              "<matplotlib.image.AxesImage at 0x7fec18dcee90>"
            ]
          },
          "metadata": {
            "tags": []
          },
          "execution_count": 8
        },
        {
          "output_type": "display_data",
          "data": {
            "image/png": "[encoded data removed]",
            "text/plain": [
              "<Figure size 432x288 with 1 Axes>"
            ]
          },
          "metadata": {
            "tags": []
          }
        }
      ]
    },
    {
      "cell_type": "markdown",
      "metadata": {
        "id": "Di_LKUOPthKu"
      },
      "source": [
        "### First creation of X"
      ]
    },
    {
      "cell_type": "code",
      "metadata": {
        "id": "DupnVoGKg33P"
      },
      "source": [
        "ANGLE=dataset[:, 1]\n",
        "\n",
        "#X = np.zeros((N,INPUT_HEIGHT, INPUT_WIDTH, 1), dtype=np.float32)\n",
        "X, Y=[], []\n",
        "\n",
        "i=0\n",
        "for mask in masks_list:\n",
        "  i+=1\n",
        "  if i%300==0:\n",
        "    print(round(i/len( masks_list)*100 ), '%')\n",
        "  id=int(mask[:-4])-1\n",
        "  mask_path=os.path.join(masks_dir, mask)\n",
        "  if id<13797:\n",
        "    if sum(left_boxes[id,:])==0 and sum(right_boxes[id,:])==0: #remove turn left and right images\n",
        "      mask= np.load(mask_path)\n",
        "      mask=mask[MASK_HEIGHT-INPUT_HEIGHT:, :]\n",
        "      X.append(mask)\n",
        "      Y.append(ANGLE[id])\n",
        "\n"
      ],
      "execution_count": null,
      "outputs": []
    },
    {
      "cell_type": "code",
      "metadata": {
        "id": "SdWRoMZjo75S"
      },
      "source": [
        "print( np.shape(X), np.shape(Y))"
      ],
      "execution_count": null,
      "outputs": []
    },
    {
      "cell_type": "code",
      "metadata": {
        "id": "I1KxsLCBpNqm"
      },
      "source": [
        "X= np.reshape(X, (13253, INPUT_HEIGHT, INPUT_WIDTH, 1))\n",
        "Y=np.array(Y)\n",
        "print(np.shape(X), np.shape(Y))"
      ],
      "execution_count": null,
      "outputs": []
    },
    {
      "cell_type": "code",
      "metadata": {
        "id": "CjeDsbC4s-O_"
      },
      "source": [
        "X_path=code_dir+'data/training_data/X_masks.npy'\n",
        "np.save(X_path, X)\n",
        "Y_path=code_dir+'data/training_data/Y_masks.npy'\n",
        "np.save(Y_path, Y)"
      ],
      "execution_count": null,
      "outputs": []
    },
    {
      "cell_type": "markdown",
      "metadata": {
        "id": "umePZfiUtpAH"
      },
      "source": [
        "### Upload X"
      ]
    },
    {
      "cell_type": "code",
      "metadata": {
        "colab": {
          "base_uri": "https://localhost:8080/"
        },
        "id": "_CpRKaPqt2MY",
        "outputId": "d6cd1233-6586-410b-d5b8-bef5194a1aa0"
      },
      "source": [
        "X_path=code_dir+'data/training_data/X_masks.npy'\n",
        "X=np.load(X_path)\n",
        "Y_path=code_dir+'data/training_data/Y_masks.npy'\n",
        "Y=np.load(Y_path)\n",
        "\n",
        "print(np.shape(X), np.shape(Y))"
      ],
      "execution_count": null,
      "outputs": [
        {
          "output_type": "stream",
          "text": [
            "(13253, 88, 128, 1) (13253,)\n"
          ],
          "name": "stdout"
        }
      ]
    },
    {
      "cell_type": "code",
      "metadata": {
        "colab": {
          "base_uri": "https://localhost:8080/",
          "height": 302
        },
        "id": "81hwVDuqo10K",
        "outputId": "dd357b10-67ef-4a4e-f73c-ad25b0e856e2"
      },
      "source": [
        "n=np.random.randint(len(X))\n",
        "mask, angle=X[n], Y[n]\n",
        "print('predicted angle=', angle)\n",
        "mask=np.reshape(mask, (INPUT_HEIGHT, INPUT_WIDTH))\n",
        "plt.imshow(mask)"
      ],
      "execution_count": null,
      "outputs": [
        {
          "output_type": "stream",
          "text": [
            "predicted angle= 0.75\n"
          ],
          "name": "stdout"
        },
        {
          "output_type": "execute_result",
          "data": {
            "text/plain": [
              "<matplotlib.image.AxesImage at 0x7f55f64167d0>"
            ]
          },
          "metadata": {
            "tags": []
          },
          "execution_count": 5
        },
        {
          "output_type": "display_data",
          "data": {
            "image/png": "[encoded data removed]",
            "text/plain": [
              "<Figure size 432x288 with 1 Axes>"
            ]
          },
          "metadata": {
            "tags": [],
            "needs_background": "light"
          }
        }
      ]
    },
    {
      "cell_type": "markdown",
      "metadata": {
        "id": "cUzMTfNHvV4X"
      },
      "source": [
        "# Create model"
      ]
    },
    {
      "cell_type": "code",
      "metadata": {
        "id": "yzEEuaLR5YJ8"
      },
      "source": [
        "def nvidia_model():\n",
        "  model = Sequential()\n",
        "  model.add(Flatten(input_shape=(INPUT_HEIGHT, INPUT_WIDTH ,1)))\n",
        "  model.add(Dropout(0.2)) #randomly turn 50% of inputs into 0 45\n",
        "  model.add(Dense(100,activation='elu'))\n",
        "  model.add(Dropout(0.2))\n",
        "  model.add(Dense(50,activation='elu'))\n",
        "  model.add(Dense(10,activation='elu'))\n",
        "  model.add(Dense(1)) #outputs the proposed steering angle\n",
        "\n",
        "  model.compile(loss='mse', optimizer=Adam(lr=0.001))\n",
        "\n",
        "  return model"
      ],
      "execution_count": null,
      "outputs": []
    },
    {
      "cell_type": "code",
      "metadata": {
        "id": "HL8r8CqaJVpN"
      },
      "source": [
        "def nvidia_model():\n",
        "  model = Sequential()\n",
        "  model.add(Flatten( input_shape=(INPUT_HEIGHT, INPUT_WIDTH ,1)))\n",
        "  #model.add(Dense(5000,activation='elu'))\n",
        "  model.add(Dense(1000,activation='elu'))\n",
        "  model.add(Dropout(0.2))\n",
        "  model.add(Dense(100,activation='elu'))\n",
        "  model.add(Dense(50,activation='elu'))\n",
        "  model.add(Dense(10,activation='elu'))\n",
        "  model.add(Dense(1))# , activation='sigmoid')) #outputs the proposed steering angle\n",
        "  model.compile(loss=\"mean_absolute_error\", optimizer=Adam(lr=0.00005)) # loss=\"mean_absolute_error\"/ loss=\"mean_squared_error\"\n",
        "\n",
        "  return model"
      ],
      "execution_count": null,
      "outputs": []
    },
    {
      "cell_type": "code",
      "metadata": {
        "id": "_D-ohFezw1T7"
      },
      "source": [
        "model = nvidia_model()\n",
        "print(model.summary())"
      ],
      "execution_count": null,
      "outputs": []
    },
    {
      "cell_type": "code",
      "metadata": {
        "id": "64rGIOzrtzMs",
        "colab": {
          "base_uri": "https://localhost:8080/"
        },
        "outputId": "5b602a9d-db86-4457-e286-a0e59dffb195"
      },
      "source": [
        "def nvidia_model():\n",
        "    model = Sequential(name='Nvidia_Model')\n",
        "    \n",
        "    # elu=Expenential Linear Unit, similar to leaky Relu\n",
        "    # skipping 1st hiddel layer (nomralization layer), as we have normalized the data\n",
        "    \n",
        "    # Convolution Layers\n",
        "    model.add(Conv2D(24, (5, 5), strides=(2, 2), input_shape=(88, 128, 1), activation='elu')) \n",
        "    model.add(Conv2D(36, (5, 5), strides=(2, 2), activation='elu')) \n",
        "    model.add(Conv2D(48, (5, 5), strides=(2, 2), activation='elu')) \n",
        "    model.add(Conv2D(64, (3, 3), activation='elu')) \n",
        "    model.add(Dropout(0.2)) # not in original model. added for more robustness\n",
        "    model.add(Conv2D(64, (3, 3), activation='elu')) \n",
        "    \n",
        "    # Fully Connected Layers\n",
        "    model.add(Flatten())\n",
        "    model.add(Dropout(0.2)) # not in original model. added for more robustness\n",
        "    model.add(Dense(100, activation='elu'))\n",
        "    model.add(Dense(50, activation='elu'))\n",
        "    model.add(Dense(10, activation='elu'))\n",
        "    \n",
        "    # output layer: turn angle (from 45-135, 90 is straight, <90 turn left, >90 turn right)\n",
        "    model.add(Dense(1, activation='linear')) \n",
        "    \n",
        "    # since this is a regression problem not classification problem,\n",
        "    # we use MSE (Mean Squared Error) as loss function\n",
        "    optimizer = Adam(lr=1e-3) # lr is learning rate\n",
        "    model.compile(loss='mse', optimizer=optimizer)\n",
        "    \n",
        "    return model\n",
        "\n",
        "model = nvidia_model()\n",
        "model.summary()"
      ],
      "execution_count": null,
      "outputs": [
        {
          "output_type": "stream",
          "text": [
            "Model: \"Nvidia_Model\"\n",
            "_________________________________________________________________\n",
            "Layer (type)                 Output Shape              Param #   \n",
            "=================================================================\n",
            "conv2d_10 (Conv2D)           (None, 42, 62, 24)        624       \n",
            "_________________________________________________________________\n",
            "conv2d_11 (Conv2D)           (None, 19, 29, 36)        21636     \n",
            "_________________________________________________________________\n",
            "conv2d_12 (Conv2D)           (None, 8, 13, 48)         43248     \n",
            "_________________________________________________________________\n",
            "conv2d_13 (Conv2D)           (None, 6, 11, 64)         27712     \n",
            "_________________________________________________________________\n",
            "dropout_4 (Dropout)          (None, 6, 11, 64)         0         \n",
            "_________________________________________________________________\n",
            "conv2d_14 (Conv2D)           (None, 4, 9, 64)          36928     \n",
            "_________________________________________________________________\n",
            "flatten_2 (Flatten)          (None, 2304)              0         \n",
            "_________________________________________________________________\n",
            "dropout_5 (Dropout)          (None, 2304)              0         \n",
            "_________________________________________________________________\n",
            "dense_8 (Dense)              (None, 100)               230500    \n",
            "_________________________________________________________________\n",
            "dense_9 (Dense)              (None, 50)                5050      \n",
            "_________________________________________________________________\n",
            "dense_10 (Dense)             (None, 10)                510       \n",
            "_________________________________________________________________\n",
            "dense_11 (Dense)             (None, 1)                 11        \n",
            "=================================================================\n",
            "Total params: 366,219\n",
            "Trainable params: 366,219\n",
            "Non-trainable params: 0\n",
            "_________________________________________________________________\n"
          ],
          "name": "stdout"
        }
      ]
    },
    {
      "cell_type": "code",
      "metadata": {
        "colab": {
          "base_uri": "https://localhost:8080/"
        },
        "id": "jm_0ztGQMzOW",
        "outputId": "d398b38a-e5f4-4433-9dea-d29fc8cad48d"
      },
      "source": [
        "# Only run once\n",
        "X_train, X_test, Y_train, Y_test = train_test_split(X, Y, test_size=0.1, shuffle=True)\n",
        "print(len(X_train), len(X_test), np.shape(X_train[0]))"
      ],
      "execution_count": null,
      "outputs": [
        {
          "output_type": "stream",
          "text": [
            "11927 1326 (88, 128, 1)\n"
          ],
          "name": "stdout"
        }
      ]
    },
    {
      "cell_type": "markdown",
      "metadata": {
        "id": "HdNiDO2DfSNm"
      },
      "source": [
        "### Keras Tuner"
      ]
    },
    {
      "cell_type": "code",
      "metadata": {
        "colab": {
          "base_uri": "https://localhost:8080/"
        },
        "id": "4Mi3AwRbZtDF",
        "outputId": "c144d3a8-3e9d-4fa1-d95f-06fcb440b19b"
      },
      "source": [
        "# Only run once\n",
        "X_train, X_test, Y_train, Y_test = train_test_split(X, Y, test_size=0.1, shuffle=True)\n",
        "print(len(X_train), len(X_test), np.shape(X_train[0]))"
      ],
      "execution_count": null,
      "outputs": [
        {
          "output_type": "stream",
          "text": [
            "11927 1326 (88, 128, 1)\n"
          ],
          "name": "stdout"
        }
      ]
    },
    {
      "cell_type": "code",
      "metadata": {
        "id": "hgwozMGvzy5c"
      },
      "source": [
        "from kerastuner.tuners import RandomSearch\n",
        "from kerastuner.engine.hyperparameters import HyperParameters"
      ],
      "execution_count": null,
      "outputs": []
    },
    {
      "cell_type": "code",
      "metadata": {
        "id": "Y34AZBAdvbWH"
      },
      "source": [
        "def nvidia_model(hp):\n",
        "  model = keras.Sequential()\n",
        "  \n",
        "  for i in range(hp.Int('num_C_layers',2,20)):\n",
        "    model.add(Conv2D( filters=(hp.Int('C_units_' +str(i), min_value=12, max_value=100, step=32)), \n",
        "                               kernel_size=(hp.Choice('conv_kern_'+str(i), values=[3,5])), activation = 'elu'))\n",
        "  model.add(Flatten( input_shape=(INPUT_HEIGHT, INPUT_WIDTH ,1)))\n",
        "  for i in range(hp.Int('num_D_layers',2,20)):\n",
        "    model.add(Dense(units=hp.Int('D_units_' +str(i), min_value=32, max_value=512, step=32), activation = 'elu'))\n",
        "  model.add(Dropout(rate=hp.Float('dropout_2', min_value=0.0, max_value=0.5, step=0.05)))\n",
        "  model.add(Dense(1)) #activation func? linear? \n",
        "  model.compile(optimizer=keras.optimizers.Adam(hp.Choice('learning_rate', values=[1e-2,1e-3,1e-4])),\n",
        "                                          loss='mean_squared_error', metrics=['mean_squared_error'])\n",
        "\n",
        "  return model"
      ],
      "execution_count": null,
      "outputs": []
    },
    {
      "cell_type": "code",
      "metadata": {
        "id": "XVlZunIewSJ5"
      },
      "source": [
        "tuner_search = RandomSearch(nvidia_model, objective='val_loss',max_trials=5, executions_per_trial=5, directory='project_new7',project_name='kerasTuner_LaneDetection')"
      ],
      "execution_count": null,
      "outputs": []
    },
    {
      "cell_type": "code",
      "metadata": {
        "colab": {
          "background_save": true,
          "base_uri": "https://localhost:8080/"
        },
        "id": "Vu9H5kYPwUNU",
        "outputId": "d97f2788-225c-4d9c-deff-1b685274ab66"
      },
      "source": [
        "tuner_search.search(X_train, Y_train, steps_per_epoch=300, epochs=10, validation_data=(X_test, Y_test))\n",
        "model_best = tuner_search.get_best_models(num_models=1)[0]\n",
        "model_best.summary()\n",
        "tuner_search.get_best_hyperparameters()[0].values\n",
        "\n",
        "earlystopper = EarlyStopping(patience=5, verbose=1)\n",
        "checkpointer = ModelCheckpoint('/content/nvidia.h5', verbose=1, save_best_only=True)\n",
        "history=model_best.fit(X_train,Y_train, batch_size=32 ,epochs=30, validation_data=(X_test, Y_test), callbacks=[earlystopper, checkpointer])\n",
        "\n",
        "loss=history.history['loss']; val_loss=history.history['val_loss']\n",
        "plt.plot(loss,'b-', label='loss')\n",
        "plt.plot(val_loss,'r-', label='val_loss')\n",
        "plt.legend()\n",
        "plt.xlabel('epochs')\n",
        "\n",
        "\n",
        "# Load the best checkpoint model\n",
        "model_path='/content/nvidia.h5'\n",
        "model=keras.models.load_model(model_path)\n",
        "\n",
        "\n",
        "model_path=code_dir+'YOLOv3_TF2/weights/nvidia_new.h5'\n",
        "model.save(model_path)\n"
      ],
      "execution_count": null,
      "outputs": [
        {
          "output_type": "stream",
          "text": [
            "Trial 1 Complete [00h 25m 42s]\n",
            "val_loss: 0.005653108935803175\n",
            "\n",
            "Best val_loss So Far: 0.005653108935803175\n",
            "Total elapsed time: 00h 25m 42s\n",
            "\n",
            "Search: Running Trial #2\n",
            "\n",
            "Hyperparameter    |Value             |Best Value So Far \n",
            "num_C_layers      |2                 |11                \n",
            "C_units_0         |172               |44                \n",
            "conv_kern_0       |3                 |3                 \n",
            "C_units_1         |492               |268               \n",
            "conv_kern_1       |5                 |3                 \n",
            "num_D_layers      |11                |17                \n",
            "D_units_0         |160               |384               \n",
            "D_units_1         |192               |128               \n",
            "dropout_2         |0.05              |0.4               \n",
            "learning_rate     |0.0001            |0.0001            \n",
            "C_units_2         |268               |12                \n",
            "conv_kern_2       |5                 |3                 \n",
            "C_units_3         |428               |12                \n",
            "conv_kern_3       |3                 |3                 \n",
            "C_units_4         |300               |12                \n",
            "conv_kern_4       |3                 |3                 \n",
            "C_units_5         |396               |12                \n",
            "conv_kern_5       |3                 |3                 \n",
            "C_units_6         |300               |12                \n",
            "conv_kern_6       |5                 |3                 \n",
            "C_units_7         |236               |12                \n",
            "conv_kern_7       |3                 |3                 \n",
            "C_units_8         |44                |12                \n",
            "conv_kern_8       |5                 |3                 \n",
            "C_units_9         |268               |12                \n",
            "conv_kern_9       |3                 |3                 \n",
            "C_units_10        |460               |12                \n",
            "conv_kern_10      |3                 |3                 \n",
            "D_units_2         |192               |32                \n",
            "D_units_3         |416               |32                \n",
            "D_units_4         |160               |32                \n",
            "D_units_5         |128               |32                \n",
            "D_units_6         |448               |32                \n",
            "D_units_7         |384               |32                \n",
            "D_units_8         |160               |32                \n",
            "D_units_9         |352               |32                \n",
            "D_units_10        |192               |32                \n",
            "D_units_11        |320               |32                \n",
            "D_units_12        |288               |32                \n",
            "D_units_13        |256               |32                \n",
            "D_units_14        |448               |32                \n",
            "D_units_15        |224               |32                \n",
            "D_units_16        |416               |32                \n",
            "\n",
            "Epoch 1/10\n"
          ],
          "name": "stdout"
        },
        {
          "output_type": "error",
          "ename": "ResourceExhaustedError",
          "evalue": "ignored",
          "traceback": [
            "\u001b[0;31m---------------------------------------------------------------------------\u001b[0m",
            "\u001b[0;31mResourceExhaustedError\u001b[0m                    Traceback (most recent call last)",
            "\u001b[0;32m<ipython-input-15-42985f0d31d6>\u001b[0m in \u001b[0;36m<module>\u001b[0;34m()\u001b[0m\n\u001b[0;32m----> 1\u001b[0;31m \u001b[0mtuner_search\u001b[0m\u001b[0;34m.\u001b[0m\u001b[0msearch\u001b[0m\u001b[0;34m(\u001b[0m\u001b[0mX_train\u001b[0m\u001b[0;34m,\u001b[0m \u001b[0mY_train\u001b[0m\u001b[0;34m,\u001b[0m \u001b[0msteps_per_epoch\u001b[0m\u001b[0;34m=\u001b[0m\u001b[0;36m300\u001b[0m\u001b[0;34m,\u001b[0m \u001b[0mepochs\u001b[0m\u001b[0;34m=\u001b[0m\u001b[0;36m10\u001b[0m\u001b[0;34m,\u001b[0m \u001b[0mvalidation_data\u001b[0m\u001b[0;34m=\u001b[0m\u001b[0;34m(\u001b[0m\u001b[0mX_test\u001b[0m\u001b[0;34m,\u001b[0m \u001b[0mY_test\u001b[0m\u001b[0;34m)\u001b[0m\u001b[0;34m)\u001b[0m\u001b[0;34m\u001b[0m\u001b[0;34m\u001b[0m\u001b[0m\n\u001b[0m\u001b[1;32m      2\u001b[0m \u001b[0mmodel_best\u001b[0m \u001b[0;34m=\u001b[0m \u001b[0mtuner_search\u001b[0m\u001b[0;34m.\u001b[0m\u001b[0mget_best_models\u001b[0m\u001b[0;34m(\u001b[0m\u001b[0mnum_models\u001b[0m\u001b[0;34m=\u001b[0m\u001b[0;36m1\u001b[0m\u001b[0;34m)\u001b[0m\u001b[0;34m[\u001b[0m\u001b[0;36m0\u001b[0m\u001b[0;34m]\u001b[0m\u001b[0;34m\u001b[0m\u001b[0;34m\u001b[0m\u001b[0m\n\u001b[1;32m      3\u001b[0m \u001b[0mmodel_best\u001b[0m\u001b[0;34m.\u001b[0m\u001b[0msummary\u001b[0m\u001b[0;34m(\u001b[0m\u001b[0;34m)\u001b[0m\u001b[0;34m\u001b[0m\u001b[0;34m\u001b[0m\u001b[0m\n\u001b[1;32m      4\u001b[0m \u001b[0mtuner_search\u001b[0m\u001b[0;34m.\u001b[0m\u001b[0mget_best_hyperparameters\u001b[0m\u001b[0;34m(\u001b[0m\u001b[0;34m)\u001b[0m\u001b[0;34m[\u001b[0m\u001b[0;36m0\u001b[0m\u001b[0;34m]\u001b[0m\u001b[0;34m.\u001b[0m\u001b[0mvalues\u001b[0m\u001b[0;34m\u001b[0m\u001b[0;34m\u001b[0m\u001b[0m\n\u001b[1;32m      5\u001b[0m \u001b[0;34m\u001b[0m\u001b[0m\n",
            "\u001b[0;32m/usr/local/lib/python3.7/dist-packages/kerastuner/engine/base_tuner.py\u001b[0m in \u001b[0;36msearch\u001b[0;34m(self, *fit_args, **fit_kwargs)\u001b[0m\n\u001b[1;32m    129\u001b[0m \u001b[0;34m\u001b[0m\u001b[0m\n\u001b[1;32m    130\u001b[0m             \u001b[0mself\u001b[0m\u001b[0;34m.\u001b[0m\u001b[0mon_trial_begin\u001b[0m\u001b[0;34m(\u001b[0m\u001b[0mtrial\u001b[0m\u001b[0;34m)\u001b[0m\u001b[0;34m\u001b[0m\u001b[0;34m\u001b[0m\u001b[0m\n\u001b[0;32m--> 131\u001b[0;31m             \u001b[0mself\u001b[0m\u001b[0;34m.\u001b[0m\u001b[0mrun_trial\u001b[0m\u001b[0;34m(\u001b[0m\u001b[0mtrial\u001b[0m\u001b[0;34m,\u001b[0m \u001b[0;34m*\u001b[0m\u001b[0mfit_args\u001b[0m\u001b[0;34m,\u001b[0m \u001b[0;34m**\u001b[0m\u001b[0mfit_kwargs\u001b[0m\u001b[0;34m)\u001b[0m\u001b[0;34m\u001b[0m\u001b[0;34m\u001b[0m\u001b[0m\n\u001b[0m\u001b[1;32m    132\u001b[0m             \u001b[0mself\u001b[0m\u001b[0;34m.\u001b[0m\u001b[0mon_trial_end\u001b[0m\u001b[0;34m(\u001b[0m\u001b[0mtrial\u001b[0m\u001b[0;34m)\u001b[0m\u001b[0;34m\u001b[0m\u001b[0;34m\u001b[0m\u001b[0m\n\u001b[1;32m    133\u001b[0m         \u001b[0mself\u001b[0m\u001b[0;34m.\u001b[0m\u001b[0mon_search_end\u001b[0m\u001b[0;34m(\u001b[0m\u001b[0;34m)\u001b[0m\u001b[0;34m\u001b[0m\u001b[0;34m\u001b[0m\u001b[0m\n",
            "\u001b[0;32m/usr/local/lib/python3.7/dist-packages/kerastuner/engine/multi_execution_tuner.py\u001b[0m in \u001b[0;36mrun_trial\u001b[0;34m(self, trial, *fit_args, **fit_kwargs)\u001b[0m\n\u001b[1;32m     94\u001b[0m             \u001b[0mcopied_fit_kwargs\u001b[0m\u001b[0;34m[\u001b[0m\u001b[0;34m'callbacks'\u001b[0m\u001b[0;34m]\u001b[0m \u001b[0;34m=\u001b[0m \u001b[0mcallbacks\u001b[0m\u001b[0;34m\u001b[0m\u001b[0;34m\u001b[0m\u001b[0m\n\u001b[1;32m     95\u001b[0m \u001b[0;34m\u001b[0m\u001b[0m\n\u001b[0;32m---> 96\u001b[0;31m             \u001b[0mhistory\u001b[0m \u001b[0;34m=\u001b[0m \u001b[0mself\u001b[0m\u001b[0;34m.\u001b[0m\u001b[0m_build_and_fit_model\u001b[0m\u001b[0;34m(\u001b[0m\u001b[0mtrial\u001b[0m\u001b[0;34m,\u001b[0m \u001b[0mfit_args\u001b[0m\u001b[0;34m,\u001b[0m \u001b[0mcopied_fit_kwargs\u001b[0m\u001b[0;34m)\u001b[0m\u001b[0;34m\u001b[0m\u001b[0;34m\u001b[0m\u001b[0m\n\u001b[0m\u001b[1;32m     97\u001b[0m             \u001b[0;32mfor\u001b[0m \u001b[0mmetric\u001b[0m\u001b[0;34m,\u001b[0m \u001b[0mepoch_values\u001b[0m \u001b[0;32min\u001b[0m \u001b[0mhistory\u001b[0m\u001b[0;34m.\u001b[0m\u001b[0mhistory\u001b[0m\u001b[0;34m.\u001b[0m\u001b[0mitems\u001b[0m\u001b[0;34m(\u001b[0m\u001b[0;34m)\u001b[0m\u001b[0;34m:\u001b[0m\u001b[0;34m\u001b[0m\u001b[0;34m\u001b[0m\u001b[0m\n\u001b[1;32m     98\u001b[0m                 \u001b[0;32mif\u001b[0m \u001b[0mself\u001b[0m\u001b[0;34m.\u001b[0m\u001b[0moracle\u001b[0m\u001b[0;34m.\u001b[0m\u001b[0mobjective\u001b[0m\u001b[0;34m.\u001b[0m\u001b[0mdirection\u001b[0m \u001b[0;34m==\u001b[0m \u001b[0;34m'min'\u001b[0m\u001b[0;34m:\u001b[0m\u001b[0;34m\u001b[0m\u001b[0;34m\u001b[0m\u001b[0m\n",
            "\u001b[0;32m/usr/local/lib/python3.7/dist-packages/kerastuner/engine/tuner.py\u001b[0m in \u001b[0;36m_build_and_fit_model\u001b[0;34m(self, trial, fit_args, fit_kwargs)\u001b[0m\n\u001b[1;32m    139\u001b[0m         \"\"\"\n\u001b[1;32m    140\u001b[0m         \u001b[0mmodel\u001b[0m \u001b[0;34m=\u001b[0m \u001b[0mself\u001b[0m\u001b[0;34m.\u001b[0m\u001b[0mhypermodel\u001b[0m\u001b[0;34m.\u001b[0m\u001b[0mbuild\u001b[0m\u001b[0;34m(\u001b[0m\u001b[0mtrial\u001b[0m\u001b[0;34m.\u001b[0m\u001b[0mhyperparameters\u001b[0m\u001b[0;34m)\u001b[0m\u001b[0;34m\u001b[0m\u001b[0;34m\u001b[0m\u001b[0m\n\u001b[0;32m--> 141\u001b[0;31m         \u001b[0;32mreturn\u001b[0m \u001b[0mmodel\u001b[0m\u001b[0;34m.\u001b[0m\u001b[0mfit\u001b[0m\u001b[0;34m(\u001b[0m\u001b[0;34m*\u001b[0m\u001b[0mfit_args\u001b[0m\u001b[0;34m,\u001b[0m \u001b[0;34m**\u001b[0m\u001b[0mfit_kwargs\u001b[0m\u001b[0;34m)\u001b[0m\u001b[0;34m\u001b[0m\u001b[0;34m\u001b[0m\u001b[0m\n\u001b[0m\u001b[1;32m    142\u001b[0m \u001b[0;34m\u001b[0m\u001b[0m\n\u001b[1;32m    143\u001b[0m     \u001b[0;32mdef\u001b[0m \u001b[0mrun_trial\u001b[0m\u001b[0;34m(\u001b[0m\u001b[0mself\u001b[0m\u001b[0;34m,\u001b[0m \u001b[0mtrial\u001b[0m\u001b[0;34m,\u001b[0m \u001b[0;34m*\u001b[0m\u001b[0mfit_args\u001b[0m\u001b[0;34m,\u001b[0m \u001b[0;34m**\u001b[0m\u001b[0mfit_kwargs\u001b[0m\u001b[0;34m)\u001b[0m\u001b[0;34m:\u001b[0m\u001b[0;34m\u001b[0m\u001b[0;34m\u001b[0m\u001b[0m\n",
            "\u001b[0;32m/usr/local/lib/python3.7/dist-packages/tensorflow/python/keras/engine/training.py\u001b[0m in \u001b[0;36mfit\u001b[0;34m(self, x, y, batch_size, epochs, verbose, callbacks, validation_split, validation_data, shuffle, class_weight, sample_weight, initial_epoch, steps_per_epoch, validation_steps, validation_batch_size, validation_freq, max_queue_size, workers, use_multiprocessing)\u001b[0m\n\u001b[1;32m   1098\u001b[0m                 _r=1):\n\u001b[1;32m   1099\u001b[0m               \u001b[0mcallbacks\u001b[0m\u001b[0;34m.\u001b[0m\u001b[0mon_train_batch_begin\u001b[0m\u001b[0;34m(\u001b[0m\u001b[0mstep\u001b[0m\u001b[0;34m)\u001b[0m\u001b[0;34m\u001b[0m\u001b[0;34m\u001b[0m\u001b[0m\n\u001b[0;32m-> 1100\u001b[0;31m               \u001b[0mtmp_logs\u001b[0m \u001b[0;34m=\u001b[0m \u001b[0mself\u001b[0m\u001b[0;34m.\u001b[0m\u001b[0mtrain_function\u001b[0m\u001b[0;34m(\u001b[0m\u001b[0miterator\u001b[0m\u001b[0;34m)\u001b[0m\u001b[0;34m\u001b[0m\u001b[0;34m\u001b[0m\u001b[0m\n\u001b[0m\u001b[1;32m   1101\u001b[0m               \u001b[0;32mif\u001b[0m \u001b[0mdata_handler\u001b[0m\u001b[0;34m.\u001b[0m\u001b[0mshould_sync\u001b[0m\u001b[0;34m:\u001b[0m\u001b[0;34m\u001b[0m\u001b[0;34m\u001b[0m\u001b[0m\n\u001b[1;32m   1102\u001b[0m                 \u001b[0mcontext\u001b[0m\u001b[0;34m.\u001b[0m\u001b[0masync_wait\u001b[0m\u001b[0;34m(\u001b[0m\u001b[0;34m)\u001b[0m\u001b[0;34m\u001b[0m\u001b[0;34m\u001b[0m\u001b[0m\n",
            "\u001b[0;32m/usr/local/lib/python3.7/dist-packages/tensorflow/python/eager/def_function.py\u001b[0m in \u001b[0;36m__call__\u001b[0;34m(self, *args, **kwds)\u001b[0m\n\u001b[1;32m    826\u001b[0m     \u001b[0mtracing_count\u001b[0m \u001b[0;34m=\u001b[0m \u001b[0mself\u001b[0m\u001b[0;34m.\u001b[0m\u001b[0mexperimental_get_tracing_count\u001b[0m\u001b[0;34m(\u001b[0m\u001b[0;34m)\u001b[0m\u001b[0;34m\u001b[0m\u001b[0;34m\u001b[0m\u001b[0m\n\u001b[1;32m    827\u001b[0m     \u001b[0;32mwith\u001b[0m \u001b[0mtrace\u001b[0m\u001b[0;34m.\u001b[0m\u001b[0mTrace\u001b[0m\u001b[0;34m(\u001b[0m\u001b[0mself\u001b[0m\u001b[0;34m.\u001b[0m\u001b[0m_name\u001b[0m\u001b[0;34m)\u001b[0m \u001b[0;32mas\u001b[0m \u001b[0mtm\u001b[0m\u001b[0;34m:\u001b[0m\u001b[0;34m\u001b[0m\u001b[0;34m\u001b[0m\u001b[0m\n\u001b[0;32m--> 828\u001b[0;31m       \u001b[0mresult\u001b[0m \u001b[0;34m=\u001b[0m \u001b[0mself\u001b[0m\u001b[0;34m.\u001b[0m\u001b[0m_call\u001b[0m\u001b[0;34m(\u001b[0m\u001b[0;34m*\u001b[0m\u001b[0margs\u001b[0m\u001b[0;34m,\u001b[0m \u001b[0;34m**\u001b[0m\u001b[0mkwds\u001b[0m\u001b[0;34m)\u001b[0m\u001b[0;34m\u001b[0m\u001b[0;34m\u001b[0m\u001b[0m\n\u001b[0m\u001b[1;32m    829\u001b[0m       \u001b[0mcompiler\u001b[0m \u001b[0;34m=\u001b[0m \u001b[0;34m\"xla\"\u001b[0m \u001b[0;32mif\u001b[0m \u001b[0mself\u001b[0m\u001b[0;34m.\u001b[0m\u001b[0m_experimental_compile\u001b[0m \u001b[0;32melse\u001b[0m \u001b[0;34m\"nonXla\"\u001b[0m\u001b[0;34m\u001b[0m\u001b[0;34m\u001b[0m\u001b[0m\n\u001b[1;32m    830\u001b[0m       \u001b[0mnew_tracing_count\u001b[0m \u001b[0;34m=\u001b[0m \u001b[0mself\u001b[0m\u001b[0;34m.\u001b[0m\u001b[0mexperimental_get_tracing_count\u001b[0m\u001b[0;34m(\u001b[0m\u001b[0;34m)\u001b[0m\u001b[0;34m\u001b[0m\u001b[0;34m\u001b[0m\u001b[0m\n",
            "\u001b[0;32m/usr/local/lib/python3.7/dist-packages/tensorflow/python/eager/def_function.py\u001b[0m in \u001b[0;36m_call\u001b[0;34m(self, *args, **kwds)\u001b[0m\n\u001b[1;32m    886\u001b[0m         \u001b[0;31m# Lifting succeeded, so variables are initialized and we can run the\u001b[0m\u001b[0;34m\u001b[0m\u001b[0;34m\u001b[0m\u001b[0;34m\u001b[0m\u001b[0m\n\u001b[1;32m    887\u001b[0m         \u001b[0;31m# stateless function.\u001b[0m\u001b[0;34m\u001b[0m\u001b[0;34m\u001b[0m\u001b[0;34m\u001b[0m\u001b[0m\n\u001b[0;32m--> 888\u001b[0;31m         \u001b[0;32mreturn\u001b[0m \u001b[0mself\u001b[0m\u001b[0;34m.\u001b[0m\u001b[0m_stateless_fn\u001b[0m\u001b[0;34m(\u001b[0m\u001b[0;34m*\u001b[0m\u001b[0margs\u001b[0m\u001b[0;34m,\u001b[0m \u001b[0;34m**\u001b[0m\u001b[0mkwds\u001b[0m\u001b[0;34m)\u001b[0m\u001b[0;34m\u001b[0m\u001b[0;34m\u001b[0m\u001b[0m\n\u001b[0m\u001b[1;32m    889\u001b[0m     \u001b[0;32melse\u001b[0m\u001b[0;34m:\u001b[0m\u001b[0;34m\u001b[0m\u001b[0;34m\u001b[0m\u001b[0m\n\u001b[1;32m    890\u001b[0m       \u001b[0m_\u001b[0m\u001b[0;34m,\u001b[0m \u001b[0m_\u001b[0m\u001b[0;34m,\u001b[0m \u001b[0m_\u001b[0m\u001b[0;34m,\u001b[0m \u001b[0mfiltered_flat_args\u001b[0m \u001b[0;34m=\u001b[0m\u001b[0;31m \u001b[0m\u001b[0;31m\\\u001b[0m\u001b[0;34m\u001b[0m\u001b[0;34m\u001b[0m\u001b[0m\n",
            "\u001b[0;32m/usr/local/lib/python3.7/dist-packages/tensorflow/python/eager/function.py\u001b[0m in \u001b[0;36m__call__\u001b[0;34m(self, *args, **kwargs)\u001b[0m\n\u001b[1;32m   2941\u001b[0m        filtered_flat_args) = self._maybe_define_function(args, kwargs)\n\u001b[1;32m   2942\u001b[0m     return graph_function._call_flat(\n\u001b[0;32m-> 2943\u001b[0;31m         filtered_flat_args, captured_inputs=graph_function.captured_inputs)  # pylint: disable=protected-access\n\u001b[0m\u001b[1;32m   2944\u001b[0m \u001b[0;34m\u001b[0m\u001b[0m\n\u001b[1;32m   2945\u001b[0m   \u001b[0;34m@\u001b[0m\u001b[0mproperty\u001b[0m\u001b[0;34m\u001b[0m\u001b[0;34m\u001b[0m\u001b[0m\n",
            "\u001b[0;32m/usr/local/lib/python3.7/dist-packages/tensorflow/python/eager/function.py\u001b[0m in \u001b[0;36m_call_flat\u001b[0;34m(self, args, captured_inputs, cancellation_manager)\u001b[0m\n\u001b[1;32m   1917\u001b[0m       \u001b[0;31m# No tape is watching; skip to running the function.\u001b[0m\u001b[0;34m\u001b[0m\u001b[0;34m\u001b[0m\u001b[0;34m\u001b[0m\u001b[0m\n\u001b[1;32m   1918\u001b[0m       return self._build_call_outputs(self._inference_function.call(\n\u001b[0;32m-> 1919\u001b[0;31m           ctx, args, cancellation_manager=cancellation_manager))\n\u001b[0m\u001b[1;32m   1920\u001b[0m     forward_backward = self._select_forward_and_backward_functions(\n\u001b[1;32m   1921\u001b[0m         \u001b[0margs\u001b[0m\u001b[0;34m,\u001b[0m\u001b[0;34m\u001b[0m\u001b[0;34m\u001b[0m\u001b[0m\n",
            "\u001b[0;32m/usr/local/lib/python3.7/dist-packages/tensorflow/python/eager/function.py\u001b[0m in \u001b[0;36mcall\u001b[0;34m(self, ctx, args, cancellation_manager)\u001b[0m\n\u001b[1;32m    558\u001b[0m               \u001b[0minputs\u001b[0m\u001b[0;34m=\u001b[0m\u001b[0margs\u001b[0m\u001b[0;34m,\u001b[0m\u001b[0;34m\u001b[0m\u001b[0;34m\u001b[0m\u001b[0m\n\u001b[1;32m    559\u001b[0m               \u001b[0mattrs\u001b[0m\u001b[0;34m=\u001b[0m\u001b[0mattrs\u001b[0m\u001b[0;34m,\u001b[0m\u001b[0;34m\u001b[0m\u001b[0;34m\u001b[0m\u001b[0m\n\u001b[0;32m--> 560\u001b[0;31m               ctx=ctx)\n\u001b[0m\u001b[1;32m    561\u001b[0m         \u001b[0;32melse\u001b[0m\u001b[0;34m:\u001b[0m\u001b[0;34m\u001b[0m\u001b[0;34m\u001b[0m\u001b[0m\n\u001b[1;32m    562\u001b[0m           outputs = execute.execute_with_cancellation(\n",
            "\u001b[0;32m/usr/local/lib/python3.7/dist-packages/tensorflow/python/eager/execute.py\u001b[0m in \u001b[0;36mquick_execute\u001b[0;34m(op_name, num_outputs, inputs, attrs, ctx, name)\u001b[0m\n\u001b[1;32m     58\u001b[0m     \u001b[0mctx\u001b[0m\u001b[0;34m.\u001b[0m\u001b[0mensure_initialized\u001b[0m\u001b[0;34m(\u001b[0m\u001b[0;34m)\u001b[0m\u001b[0;34m\u001b[0m\u001b[0;34m\u001b[0m\u001b[0m\n\u001b[1;32m     59\u001b[0m     tensors = pywrap_tfe.TFE_Py_Execute(ctx._handle, device_name, op_name,\n\u001b[0;32m---> 60\u001b[0;31m                                         inputs, attrs, num_outputs)\n\u001b[0m\u001b[1;32m     61\u001b[0m   \u001b[0;32mexcept\u001b[0m \u001b[0mcore\u001b[0m\u001b[0;34m.\u001b[0m\u001b[0m_NotOkStatusException\u001b[0m \u001b[0;32mas\u001b[0m \u001b[0me\u001b[0m\u001b[0;34m:\u001b[0m\u001b[0;34m\u001b[0m\u001b[0;34m\u001b[0m\u001b[0m\n\u001b[1;32m     62\u001b[0m     \u001b[0;32mif\u001b[0m \u001b[0mname\u001b[0m \u001b[0;32mis\u001b[0m \u001b[0;32mnot\u001b[0m \u001b[0;32mNone\u001b[0m\u001b[0;34m:\u001b[0m\u001b[0;34m\u001b[0m\u001b[0;34m\u001b[0m\u001b[0m\n",
            "\u001b[0;31mResourceExhaustedError\u001b[0m:  OOM when allocating tensor with shape[4921968,160] and type float on /job:localhost/replica:0/task:0/device:GPU:0 by allocator GPU_0_bfc\n\t [[node gradient_tape/sequential/dense/MatMul_1 (defined at /usr/local/lib/python3.7/dist-packages/kerastuner/engine/tuner.py:141) ]]\nHint: If you want to see a list of allocated tensors when OOM happens, add report_tensor_allocations_upon_oom to RunOptions for current allocation info.\n [Op:__inference_train_function_58155]\n\nFunction call stack:\ntrain_function\n"
          ]
        }
      ]
    },
    {
      "cell_type": "code",
      "metadata": {
        "colab": {
          "base_uri": "https://localhost:8080/"
        },
        "id": "Ex76gnTr1-GB",
        "outputId": "77ef4252-5284-4f15-9dde-cee64a0c50ab"
      },
      "source": [
        "earlystopper = EarlyStopping(patience=5, verbose=1)\n",
        "checkpointer = ModelCheckpoint('/content/nvidia.h5', verbose=1, save_best_only=True)\n",
        "history=model_best.fit(X_train,Y_train, batch_size=32 ,epochs=30, validation_data=(X_test, Y_test), callbacks=[earlystopper, checkpointer]) #validation_steps=80"
      ],
      "execution_count": null,
      "outputs": [
        {
          "output_type": "stream",
          "text": [
            "Epoch 1/30\n",
            "373/373 [==============================] - 2s 4ms/step - loss: 0.0038 - mean_squared_error: 0.0038 - val_loss: 0.0051 - val_mean_squared_error: 0.0051\n",
            "\n",
            "Epoch 00001: val_loss improved from inf to 0.00510, saving model to /content/nvidia.h5\n",
            "Epoch 2/30\n",
            "373/373 [==============================] - 1s 4ms/step - loss: 0.0044 - mean_squared_error: 0.0044 - val_loss: 0.0051 - val_mean_squared_error: 0.0051\n",
            "\n",
            "Epoch 00002: val_loss did not improve from 0.00510\n",
            "Epoch 3/30\n",
            "373/373 [==============================] - 1s 4ms/step - loss: 0.0037 - mean_squared_error: 0.0037 - val_loss: 0.0060 - val_mean_squared_error: 0.0060\n",
            "\n",
            "Epoch 00003: val_loss did not improve from 0.00510\n",
            "Epoch 4/30\n",
            "373/373 [==============================] - 1s 3ms/step - loss: 0.0038 - mean_squared_error: 0.0038 - val_loss: 0.0053 - val_mean_squared_error: 0.0053\n",
            "\n",
            "Epoch 00004: val_loss did not improve from 0.00510\n",
            "Epoch 5/30\n",
            "373/373 [==============================] - 1s 4ms/step - loss: 0.0035 - mean_squared_error: 0.0035 - val_loss: 0.0057 - val_mean_squared_error: 0.0057\n",
            "\n",
            "Epoch 00005: val_loss did not improve from 0.00510\n",
            "Epoch 6/30\n",
            "373/373 [==============================] - 1s 4ms/step - loss: 0.0035 - mean_squared_error: 0.0035 - val_loss: 0.0053 - val_mean_squared_error: 0.0053\n",
            "\n",
            "Epoch 00006: val_loss did not improve from 0.00510\n",
            "Epoch 00006: early stopping\n"
          ],
          "name": "stdout"
        }
      ]
    },
    {
      "cell_type": "markdown",
      "metadata": {
        "id": "FbCeOg4_asg2"
      },
      "source": [
        "### Train"
      ]
    },
    {
      "cell_type": "code",
      "metadata": {
        "colab": {
          "base_uri": "https://localhost:8080/"
        },
        "id": "KOdQJD3ztmqC",
        "outputId": "b343a9c6-74f8-442c-b086-51cefda61f69"
      },
      "source": [
        "earlystopper = EarlyStopping(patience=5, verbose=1)\n",
        "checkpointer = ModelCheckpoint('/content/nvidia.h5', verbose=1, save_best_only=True)\n",
        "history=model.fit(X_train,Y_train, batch_size=32 ,epochs=30, validation_data=(X_test, Y_test), callbacks=[earlystopper, checkpointer]) #validation_steps=80"
      ],
      "execution_count": null,
      "outputs": [
        {
          "output_type": "stream",
          "text": [
            "Epoch 1/30\n",
            "373/373 [==============================] - 18s 6ms/step - loss: 0.0486 - val_loss: 0.0063\n",
            "\n",
            "Epoch 00001: val_loss improved from inf to 0.00634, saving model to /content/nvidia.h5\n",
            "Epoch 2/30\n",
            "373/373 [==============================] - 2s 5ms/step - loss: 0.0077 - val_loss: 0.0065\n",
            "\n",
            "Epoch 00002: val_loss did not improve from 0.00634\n",
            "Epoch 3/30\n",
            "373/373 [==============================] - 2s 5ms/step - loss: 0.0068 - val_loss: 0.0062\n",
            "\n",
            "Epoch 00003: val_loss improved from 0.00634 to 0.00625, saving model to /content/nvidia.h5\n",
            "Epoch 4/30\n",
            "373/373 [==============================] - 2s 5ms/step - loss: 0.0064 - val_loss: 0.0057\n",
            "\n",
            "Epoch 00004: val_loss improved from 0.00625 to 0.00573, saving model to /content/nvidia.h5\n",
            "Epoch 5/30\n",
            "373/373 [==============================] - 2s 5ms/step - loss: 0.0062 - val_loss: 0.0072\n",
            "\n",
            "Epoch 00005: val_loss did not improve from 0.00573\n",
            "Epoch 6/30\n",
            "373/373 [==============================] - 2s 5ms/step - loss: 0.0061 - val_loss: 0.0053\n",
            "\n",
            "Epoch 00006: val_loss improved from 0.00573 to 0.00531, saving model to /content/nvidia.h5\n",
            "Epoch 7/30\n",
            "373/373 [==============================] - 2s 5ms/step - loss: 0.0056 - val_loss: 0.0060\n",
            "\n",
            "Epoch 00007: val_loss did not improve from 0.00531\n",
            "Epoch 8/30\n",
            "373/373 [==============================] - 2s 5ms/step - loss: 0.0059 - val_loss: 0.0057\n",
            "\n",
            "Epoch 00008: val_loss did not improve from 0.00531\n",
            "Epoch 9/30\n",
            "373/373 [==============================] - 2s 5ms/step - loss: 0.0060 - val_loss: 0.0065\n",
            "\n",
            "Epoch 00009: val_loss did not improve from 0.00531\n",
            "Epoch 10/30\n",
            "373/373 [==============================] - 2s 5ms/step - loss: 0.0059 - val_loss: 0.0095\n",
            "\n",
            "Epoch 00010: val_loss did not improve from 0.00531\n",
            "Epoch 11/30\n",
            "373/373 [==============================] - 2s 5ms/step - loss: 0.0075 - val_loss: 0.0058\n",
            "\n",
            "Epoch 00011: val_loss did not improve from 0.00531\n",
            "Epoch 00011: early stopping\n"
          ],
          "name": "stdout"
        }
      ]
    },
    {
      "cell_type": "code",
      "metadata": {
        "colab": {
          "base_uri": "https://localhost:8080/",
          "height": 296
        },
        "id": "r1BPnyZ7YXN8",
        "outputId": "e6f618ea-8ab2-449e-f5bc-8743e39be98a"
      },
      "source": [
        "loss=history.history['loss']; val_loss=history.history['val_loss']\n",
        "plt.plot(loss,'b-', label='loss')\n",
        "plt.plot(val_loss,'r-', label='val_loss')\n",
        "plt.legend()\n",
        "plt.xlabel('epochs')"
      ],
      "execution_count": null,
      "outputs": [
        {
          "output_type": "execute_result",
          "data": {
            "text/plain": [
              "Text(0.5, 0, 'epochs')"
            ]
          },
          "metadata": {
            "tags": []
          },
          "execution_count": 20
        },
        {
          "output_type": "display_data",
          "data": {
            "image/png": "[encoded data removed]",
            "text/plain": [
              "<Figure size 432x288 with 1 Axes>"
            ]
          },
          "metadata": {
            "tags": []
          }
        }
      ]
    },
    {
      "cell_type": "markdown",
      "metadata": {
        "id": "xSUVPUPWo7f5"
      },
      "source": [
        "# Evaluate"
      ]
    },
    {
      "cell_type": "code",
      "metadata": {
        "id": "9WQ--AYTozq0"
      },
      "source": [
        "# Load the best checkpoint model\n",
        "model_path='/content/nvidia.h5'\n",
        "model=keras.models.load_model(model_path)"
      ],
      "execution_count": null,
      "outputs": []
    },
    {
      "cell_type": "code",
      "metadata": {
        "colab": {
          "base_uri": "https://localhost:8080/",
          "height": 319
        },
        "id": "wMJBX5_QaqWv",
        "outputId": "435e08a0-1025-48ec-e5fc-8f0dcabb114f"
      },
      "source": [
        "n=np.random.randint(len(X_test))\n",
        "mask, angle=X_test[n], Y_test[n]\n",
        "\n",
        "t1=time.perf_counter()\n",
        "predicted_angle=model.predict(np.reshape(mask,  (1, INPUT_HEIGHT, INPUT_WIDTH,1 ) ))\n",
        "t2=time.perf_counter()\n",
        "print('mean time/prediction=', (t2-t1), 's')\n",
        "print('predicted angle=', float(predicted_angle), '; target angle=', angle)\n",
        "\n",
        "mask=np.reshape(mask, (INPUT_HEIGHT, INPUT_WIDTH))\n",
        "plt.imshow(mask)\n"
      ],
      "execution_count": null,
      "outputs": [
        {
          "output_type": "stream",
          "text": [
            "mean time/prediction= 0.03516253500004041 s\n",
            "predicted angle= 0.7996610403060913 ; target angle= 0.75\n"
          ],
          "name": "stdout"
        },
        {
          "output_type": "execute_result",
          "data": {
            "text/plain": [
              "<matplotlib.image.AxesImage at 0x7f6f90115dd0>"
            ]
          },
          "metadata": {
            "tags": []
          },
          "execution_count": 34
        },
        {
          "output_type": "display_data",
          "data": {
            "image/png": "[encoded data removed]",
            "text/plain": [
              "<Figure size 432x288 with 1 Axes>"
            ]
          },
          "metadata": {
            "tags": []
          }
        }
      ]
    },
    {
      "cell_type": "code",
      "metadata": {
        "colab": {
          "base_uri": "https://localhost:8080/"
        },
        "id": "Eu09IrP15a48",
        "outputId": "e30e430b-0be1-4333-f756-fdb479523738"
      },
      "source": [
        "N=1000\n",
        "mse=0\n",
        "for n in range(0,N):\n",
        "  mask, angle=X_test[n], Y_test[n]\n",
        "  predicted_angle=model.predict(np.reshape(mask,  (1, INPUT_HEIGHT, INPUT_WIDTH,1 ) ))\n",
        "  mse+=(float(predicted_angle)-angle)**2\n",
        "print('mean mse=', mse/N)"
      ],
      "execution_count": null,
      "outputs": [
        {
          "output_type": "stream",
          "text": [
            "mean mse= 0.005282951074828426\n"
          ],
          "name": "stdout"
        }
      ]
    },
    {
      "cell_type": "markdown",
      "metadata": {
        "id": "g-w2KCitfEoW"
      },
      "source": [
        "Save definitly"
      ]
    },
    {
      "cell_type": "code",
      "metadata": {
        "id": "6U9J7xbv5tV2"
      },
      "source": [
        "model_path=code_dir+'YOLOv3_TF2/weights/nvidia_0051.h5'\n",
        "model.save(model_path)"
      ],
      "execution_count": null,
      "outputs": []
    },
    {
      "cell_type": "code",
      "metadata": {
        "id": "Du8MoGn0YaLk"
      },
      "source": [
        "# check the model can be uploaded from the drive\n",
        "model_path=code_dir+'YOLOv3_TF2/weights/nvidia_0051.h5'\n",
        "model=keras.models.load_model(model_path)"
      ],
      "execution_count": null,
      "outputs": []
    },
    {
      "cell_type": "markdown",
      "metadata": {
        "id": "T06UKGadSiAZ"
      },
      "source": [
        "# Turning model"
      ]
    },
    {
      "cell_type": "markdown",
      "metadata": {
        "id": "zU0i4G94Sk7c"
      },
      "source": [
        "We make two special models to turn right and left"
      ]
    },
    {
      "cell_type": "code",
      "metadata": {
        "colab": {
          "base_uri": "https://localhost:8080/"
        },
        "id": "qEaBdMsbjG1R",
        "outputId": "6285dd27-d185-4781-c58c-70b16d2590ca"
      },
      "source": [
        "boxes_df = pd.read_csv(code_dir+\"YOLOv3_TF2/data/prediction_boxes.csv\", header=None)\n",
        "boxes= np.array(boxes_df.values) #box, car, green light, left signal, person, red light, right signal, tree\n",
        "print(boxes.shape)\n",
        "print(boxes[0])"
      ],
      "execution_count": null,
      "outputs": [
        {
          "output_type": "stream",
          "text": [
            "(13797, 32)\n",
            "[0.         0.         0.         0.         0.         0.\n",
            " 0.         0.         0.         0.         0.         0.\n",
            " 0.         0.         0.         0.         0.49118881 0.49458158\n",
            " 0.3445231  0.83723104 0.         0.         0.         0.\n",
            " 0.         0.         0.         0.         0.         0.\n",
            " 0.         0.        ]\n"
          ],
          "name": "stdout"
        }
      ]
    },
    {
      "cell_type": "code",
      "metadata": {
        "colab": {
          "base_uri": "https://localhost:8080/"
        },
        "id": "YcfMZ6FeNTq_",
        "outputId": "1d030305-91df-461f-8409-4111c0a62ac6"
      },
      "source": [
        "# left signal, right signal\n",
        "left_boxes=boxes[:,12:16]\n",
        "right_boxes=boxes[:,24:28]\n",
        "print(left_boxes.shape, right_boxes.shape)"
      ],
      "execution_count": null,
      "outputs": [
        {
          "output_type": "stream",
          "text": [
            "(13797, 4) (13797, 4)\n"
          ],
          "name": "stdout"
        }
      ]
    },
    {
      "cell_type": "code",
      "metadata": {
        "colab": {
          "base_uri": "https://localhost:8080/"
        },
        "id": "virNMyKcjG1Z",
        "outputId": "e97517f1-a05a-4430-c8bd-899a8faa6c2b"
      },
      "source": [
        "ANGLE=dataset[:, 1]\n",
        "X_right, Y_right=[], []\n",
        "X_left, Y_left=[], []\n",
        "\n",
        "\n",
        "for i in range(0, len(boxes)):\n",
        "  if i%500==0:\n",
        "    print(round(i/len(boxes)*100) , '%')\n",
        "  if sum(left_boxes[i])>0:\n",
        "    id=int(i+1)\n",
        "    mask_name=str(id)+'.npy'\n",
        "    mask_path=os.path.join(masks_dir, mask_name)\n",
        "    if os.path.isfile(mask_path):\n",
        "      mask= np.load(mask_path)\n",
        "      mask=mask[MASK_HEIGHT-INPUT_HEIGHT:, :]\n",
        "      X_left.append(mask)\n",
        "      Y_left.append(ANGLE[i])\n",
        "\n",
        "  if sum(right_boxes[i])>0:\n",
        "    id=int(i+1)\n",
        "    mask_name=str(id)+'.npy'\n",
        "    mask_path=os.path.join(masks_dir, mask_name)\n",
        "    if os.path.isfile(mask_path):\n",
        "      mask= np.load(mask_path)\n",
        "      mask=mask[MASK_HEIGHT-INPUT_HEIGHT:, :]\n",
        "      X_right.append(mask)\n",
        "      Y_right.append(ANGLE[i])\n"
      ],
      "execution_count": null,
      "outputs": [
        {
          "output_type": "stream",
          "text": [
            "0 %\n",
            "4 %\n",
            "7 %\n",
            "11 %\n",
            "14 %\n",
            "18 %\n",
            "22 %\n",
            "25 %\n",
            "29 %\n",
            "33 %\n",
            "36 %\n",
            "40 %\n",
            "43 %\n",
            "47 %\n",
            "51 %\n",
            "54 %\n",
            "58 %\n",
            "62 %\n",
            "65 %\n",
            "69 %\n",
            "72 %\n",
            "76 %\n",
            "80 %\n",
            "83 %\n",
            "87 %\n",
            "91 %\n",
            "94 %\n",
            "98 %\n"
          ],
          "name": "stdout"
        }
      ]
    },
    {
      "cell_type": "markdown",
      "metadata": {
        "id": "PzguFPH5PxsT"
      },
      "source": [
        "### Evaluate Paria nvidia"
      ]
    },
    {
      "cell_type": "code",
      "metadata": {
        "id": "4wwEkphjP1fN"
      },
      "source": [
        "def image_preprocessing(image):\n",
        "  height = image.shape[0]\n",
        "  image = image[int(height/3):,:,:] #remove half top of the image\n",
        "  image = cv2.cvtColor(image, cv2.COLOR_RGB2YUV)  # YUV color for Nvidia model\n",
        "  image = cv2.GaussianBlur(image, (3,3), 0) #reduce noise\n",
        "  image = cv2.resize(image, (200,66)) # input image size (200,66) Nvidia model\n",
        "  return image"
      ],
      "execution_count": null,
      "outputs": []
    },
    {
      "cell_type": "code",
      "metadata": {
        "id": "om8RLGq7P6Mv"
      },
      "source": [
        "model=models.load(code_dir+'/weights/nvidia_original.h5')"
      ],
      "execution_count": null,
      "outputs": []
    },
    {
      "cell_type": "code",
      "metadata": {
        "colab": {
          "base_uri": "https://localhost:8080/"
        },
        "id": "IxhbT8xlRAcc",
        "outputId": "d0cf5c48-0ac8-4c77-fd85-4a47e83dbe03"
      },
      "source": [
        "print('REGULAR MODEL PERFOMANCE')\n",
        "model_path=code_dir+'YOLOv3_TF2/weights/nvidia_0049.h5'\n",
        "model=keras.models.load_model(model_path)\n",
        "model.compile(loss='mse', optimizer=Adam(lr=0.00001)) \n",
        "\n",
        "mse=[]\n",
        "for mask,angle in zip(X_right, Y_right):\n",
        "  predicted_angle=model.predict(np.reshape(mask,  (1, INPUT_HEIGHT, INPUT_WIDTH,1 ) ))\n",
        "  mse.append((float(predicted_angle)-angle)**2)\n",
        "print('RIGHT mse=', np.mean(mse))\n",
        "\n",
        "mse=[]\n",
        "for mask,angle in zip(X_left, Y_left):\n",
        "  predicted_angle=model.predict(np.reshape(mask,  (1, INPUT_HEIGHT, INPUT_WIDTH,1 ) ))\n",
        "  mse.append((float(predicted_angle)-angle)**2)\n",
        "print('LEFT mse=', np.mean(mse))"
      ],
      "execution_count": null,
      "outputs": [
        {
          "output_type": "stream",
          "text": [
            "REGULAR MODEL PERFOMANCE\n",
            "RIGHT mse 0.06260941955343836\n",
            "LEFT mse 0.038238404913365345\n"
          ],
          "name": "stdout"
        }
      ]
    },
    {
      "cell_type": "markdown",
      "metadata": {
        "id": "gtltwAu3XNYT"
      },
      "source": [
        "### Left"
      ]
    },
    {
      "cell_type": "code",
      "metadata": {
        "id": "pyRIsXsCVrEg"
      },
      "source": [
        "# train left\n",
        "X= np.reshape(X_left, (len(X_left), INPUT_HEIGHT, INPUT_WIDTH, 1))\n",
        "Y=np.array(Y_left)"
      ],
      "execution_count": null,
      "outputs": []
    },
    {
      "cell_type": "code",
      "metadata": {
        "colab": {
          "base_uri": "https://localhost:8080/"
        },
        "id": "Em5UA-A5WBE3",
        "outputId": "af6c9c97-1a08-4613-be9f-3250e6d0298d"
      },
      "source": [
        "X_train, X_test, Y_train, Y_test = train_test_split(X, Y, test_size=0.1)\n",
        "print(len(X_train), len(X_test), np.shape(X_train[0]))"
      ],
      "execution_count": null,
      "outputs": [
        {
          "output_type": "stream",
          "text": [
            "184 21 (88, 128, 1)\n"
          ],
          "name": "stdout"
        }
      ]
    },
    {
      "cell_type": "markdown",
      "metadata": {
        "id": "4ki1RcwgtW-3"
      },
      "source": [
        "Fine tune the already trained model"
      ]
    },
    {
      "cell_type": "code",
      "metadata": {
        "id": "QUy3EDtztaAR"
      },
      "source": [
        "model_path=code_dir+'YOLOv3_TF2/weights/nvidia_0049.h5'\n",
        "model=keras.models.load_model(model_path)\n",
        "model.compile(loss='mse', optimizer=Adam(lr=0.00001)) # change lr from 0.001 to 0.0001"
      ],
      "execution_count": null,
      "outputs": []
    },
    {
      "cell_type": "code",
      "metadata": {
        "colab": {
          "base_uri": "https://localhost:8080/"
        },
        "id": "jwPIf4wAWBE7",
        "outputId": "21227dd5-f439-498d-83a9-e1686999d941"
      },
      "source": [
        "earlystopper = EarlyStopping(patience=5, verbose=1)\n",
        "checkpointer = ModelCheckpoint('/content/left.h5', verbose=1, save_best_only=True)\n",
        "history=model.fit(X_train,Y_train,batch_size=10 ,epochs=20, validation_data=(X_test, Y_test), callbacks=[earlystopper, checkpointer])"
      ],
      "execution_count": null,
      "outputs": [
        {
          "output_type": "stream",
          "text": [
            "Epoch 1/20\n",
            "19/19 [==============================] - 0s 7ms/step - loss: 0.0072 - val_loss: 0.0154\n",
            "\n",
            "Epoch 00001: val_loss improved from inf to 0.01542, saving model to /content/left.h5\n",
            "Epoch 2/20\n",
            "19/19 [==============================] - 0s 5ms/step - loss: 0.0068 - val_loss: 0.0158\n",
            "\n",
            "Epoch 00002: val_loss did not improve from 0.01542\n",
            "Epoch 3/20\n",
            "19/19 [==============================] - 0s 4ms/step - loss: 0.0069 - val_loss: 0.0163\n",
            "\n",
            "Epoch 00003: val_loss did not improve from 0.01542\n",
            "Epoch 4/20\n",
            "19/19 [==============================] - 0s 4ms/step - loss: 0.0064 - val_loss: 0.0168\n",
            "\n",
            "Epoch 00004: val_loss did not improve from 0.01542\n",
            "Epoch 5/20\n",
            "19/19 [==============================] - 0s 5ms/step - loss: 0.0064 - val_loss: 0.0169\n",
            "\n",
            "Epoch 00005: val_loss did not improve from 0.01542\n",
            "Epoch 6/20\n",
            "19/19 [==============================] - 0s 5ms/step - loss: 0.0067 - val_loss: 0.0168\n",
            "\n",
            "Epoch 00006: val_loss did not improve from 0.01542\n",
            "Epoch 00006: early stopping\n"
          ],
          "name": "stdout"
        }
      ]
    },
    {
      "cell_type": "code",
      "metadata": {
        "id": "2CFir2vUwuaq"
      },
      "source": [
        "model_path='/content/left.h5'\n",
        "model=keras.models.load_model(model_path)"
      ],
      "execution_count": null,
      "outputs": []
    },
    {
      "cell_type": "code",
      "metadata": {
        "colab": {
          "base_uri": "https://localhost:8080/",
          "height": 304
        },
        "id": "LrQBu3dMXv9X",
        "outputId": "4dfd13c9-0eb4-4154-e381-bf514338124a"
      },
      "source": [
        "n=np.random.randint(len(X_test))\n",
        "mask, angle=X_test[n], Y_test[n]\n",
        "\n",
        "predicted_angle=model.predict(np.reshape(mask,  (1, INPUT_HEIGHT, INPUT_WIDTH,1 ) ))\n",
        "print('predicted angle=', float(predicted_angle), '; target angle=', angle)\n",
        "\n",
        "mask=np.reshape(mask, (INPUT_HEIGHT, INPUT_WIDTH))\n",
        "plt.imshow(mask)"
      ],
      "execution_count": null,
      "outputs": [
        {
          "output_type": "stream",
          "text": [
            "predicted angle= 0.3036847412586212 ; target angle= 0.4375\n"
          ],
          "name": "stdout"
        },
        {
          "output_type": "execute_result",
          "data": {
            "text/plain": [
              "<matplotlib.image.AxesImage at 0x7fdd4ca3bcd0>"
            ]
          },
          "metadata": {
            "tags": []
          },
          "execution_count": 305
        },
        {
          "output_type": "display_data",
          "data": {
            "image/png": "[encoded data removed]",
            "text/plain": [
              "<Figure size 432x288 with 1 Axes>"
            ]
          },
          "metadata": {
            "tags": []
          }
        }
      ]
    },
    {
      "cell_type": "code",
      "metadata": {
        "id": "zU4adhgc4w_G"
      },
      "source": [
        "left_model_path=code_dir+'YOLOv3_TF2/weights/left.h5'\n",
        "model.save(left_model_path)"
      ],
      "execution_count": null,
      "outputs": []
    },
    {
      "cell_type": "markdown",
      "metadata": {
        "id": "PbKVE0M_XRiJ"
      },
      "source": [
        "### Right"
      ]
    },
    {
      "cell_type": "code",
      "metadata": {
        "id": "-O9WzKTyWAmC"
      },
      "source": [
        "# train right\n",
        "X= np.reshape(X_right, (len(X_right), INPUT_HEIGHT, INPUT_WIDTH, 1))\n",
        "Y=np.array(Y_right)"
      ],
      "execution_count": null,
      "outputs": []
    },
    {
      "cell_type": "code",
      "metadata": {
        "colab": {
          "base_uri": "https://localhost:8080/"
        },
        "id": "jK-XefiNZ_kN",
        "outputId": "75ade9a4-3c45-40fe-d6b6-31aa4b2a21a2"
      },
      "source": [
        "X_train, X_test, Y_train, Y_test = train_test_split(X, Y, test_size=0.1)\n",
        "print(len(X_train), len(X_test), np.shape(X_train[0]))"
      ],
      "execution_count": null,
      "outputs": [
        {
          "output_type": "stream",
          "text": [
            "305 34 (88, 128, 1)\n"
          ],
          "name": "stdout"
        }
      ]
    },
    {
      "cell_type": "code",
      "metadata": {
        "id": "K2JsD7RCt0aC"
      },
      "source": [
        "model_path=code_dir+'YOLOv3_TF2/weights/nvidia.h5'\n",
        "model=keras.models.load_model(model_path)\n",
        "model.compile(loss='mse', optimizer=Adam(lr=0.000005)) # change lr from 0.001 to 0.0001"
      ],
      "execution_count": null,
      "outputs": []
    },
    {
      "cell_type": "code",
      "metadata": {
        "colab": {
          "base_uri": "https://localhost:8080/"
        },
        "id": "3w4ScOq_Z_kQ",
        "outputId": "eea0b37f-c19f-45ef-d1fe-6033b7c9cee2"
      },
      "source": [
        "earlystopper = EarlyStopping(patience=10, verbose=1)\n",
        "checkpointer = ModelCheckpoint('/content/right.h5', verbose=1, save_best_only=True)\n",
        "history=model.fit(X_train,Y_train,batch_size=5,epochs=20,validation_data=(X_test, Y_test), callbacks=[earlystopper, checkpointer])"
      ],
      "execution_count": null,
      "outputs": [
        {
          "output_type": "stream",
          "text": [
            "Epoch 1/20\n",
            "61/61 [==============================] - 0s 3ms/step - loss: 0.0104 - val_loss: 0.0261\n",
            "\n",
            "Epoch 00001: val_loss improved from inf to 0.02609, saving model to /content/right.h5\n",
            "Epoch 2/20\n",
            "61/61 [==============================] - 0s 3ms/step - loss: 0.0103 - val_loss: 0.0260\n",
            "\n",
            "Epoch 00002: val_loss improved from 0.02609 to 0.02600, saving model to /content/right.h5\n",
            "Epoch 3/20\n",
            "61/61 [==============================] - 0s 3ms/step - loss: 0.0094 - val_loss: 0.0264\n",
            "\n",
            "Epoch 00003: val_loss did not improve from 0.02600\n",
            "Epoch 4/20\n",
            "61/61 [==============================] - 0s 3ms/step - loss: 0.0092 - val_loss: 0.0261\n",
            "\n",
            "Epoch 00004: val_loss did not improve from 0.02600\n",
            "Epoch 5/20\n",
            "61/61 [==============================] - 0s 3ms/step - loss: 0.0089 - val_loss: 0.0267\n",
            "\n",
            "Epoch 00005: val_loss did not improve from 0.02600\n",
            "Epoch 6/20\n",
            "61/61 [==============================] - 0s 3ms/step - loss: 0.0088 - val_loss: 0.0262\n",
            "\n",
            "Epoch 00006: val_loss did not improve from 0.02600\n",
            "Epoch 7/20\n",
            "61/61 [==============================] - 0s 3ms/step - loss: 0.0084 - val_loss: 0.0265\n",
            "\n",
            "Epoch 00007: val_loss did not improve from 0.02600\n",
            "Epoch 8/20\n",
            "61/61 [==============================] - 0s 2ms/step - loss: 0.0083 - val_loss: 0.0267\n",
            "\n",
            "Epoch 00008: val_loss did not improve from 0.02600\n",
            "Epoch 9/20\n",
            "61/61 [==============================] - 0s 2ms/step - loss: 0.0081 - val_loss: 0.0264\n",
            "\n",
            "Epoch 00009: val_loss did not improve from 0.02600\n",
            "Epoch 10/20\n",
            "61/61 [==============================] - 0s 3ms/step - loss: 0.0079 - val_loss: 0.0261\n",
            "\n",
            "Epoch 00010: val_loss did not improve from 0.02600\n",
            "Epoch 11/20\n",
            "61/61 [==============================] - 0s 3ms/step - loss: 0.0076 - val_loss: 0.0263\n",
            "\n",
            "Epoch 00011: val_loss did not improve from 0.02600\n",
            "Epoch 12/20\n",
            "61/61 [==============================] - 0s 3ms/step - loss: 0.0080 - val_loss: 0.0265\n",
            "\n",
            "Epoch 00012: val_loss did not improve from 0.02600\n",
            "Epoch 00012: early stopping\n"
          ],
          "name": "stdout"
        }
      ]
    },
    {
      "cell_type": "code",
      "metadata": {
        "id": "lk5l_zZ2vc6K"
      },
      "source": [
        "model_path='/content/right.h5'\n",
        "model=keras.models.load_model(model_path)"
      ],
      "execution_count": null,
      "outputs": []
    },
    {
      "cell_type": "code",
      "metadata": {
        "colab": {
          "base_uri": "https://localhost:8080/",
          "height": 304
        },
        "id": "KbY13LTAZ_kV",
        "outputId": "41a64e67-2290-46f5-bb23-9e4f826b8c00"
      },
      "source": [
        "n=np.random.randint(len(X_test))\n",
        "mask, angle=X_test[n], Y_test[n]\n",
        "\n",
        "predicted_angle=model.predict(np.reshape(mask,  (1, INPUT_HEIGHT, INPUT_WIDTH,1 ) ))\n",
        "print('predicted angle=', float(predicted_angle), '; target angle=', angle)\n",
        "\n",
        "mask=np.reshape(mask, (INPUT_HEIGHT, INPUT_WIDTH))\n",
        "plt.imshow(mask)"
      ],
      "execution_count": null,
      "outputs": [
        {
          "output_type": "stream",
          "text": [
            "predicted angle= 0.46109193563461304 ; target angle= 0.5\n"
          ],
          "name": "stdout"
        },
        {
          "output_type": "execute_result",
          "data": {
            "text/plain": [
              "<matplotlib.image.AxesImage at 0x7fdd4d1f9a50>"
            ]
          },
          "metadata": {
            "tags": []
          },
          "execution_count": 364
        },
        {
          "output_type": "display_data",
          "data": {
            "image/png": "[encoded data removed]",
            "text/plain": [
              "<Figure size 432x288 with 1 Axes>"
            ]
          },
          "metadata": {
            "tags": []
          }
        }
      ]
    },
    {
      "cell_type": "code",
      "metadata": {
        "id": "VEhGWI4O5Dvb"
      },
      "source": [
        "right_model_path=code_dir+'YOLOv3_TF2/weights/right.h5'\n",
        "model.save(right_model_path)"
      ],
      "execution_count": null,
      "outputs": []
    },
    {
      "cell_type": "markdown",
      "metadata": {
        "id": "RGXXVJ8WdkHY"
      },
      "source": [
        "# Speed "
      ]
    },
    {
      "cell_type": "code",
      "metadata": {
        "colab": {
          "base_uri": "https://localhost:8080/"
        },
        "id": "AIlIKk7yd6L6",
        "outputId": "c56cd832-a8b8-47c4-9c77-3c99d638b481"
      },
      "source": [
        "masks_dir=code_dir+'/data/training_data/masks_road_object/'\n",
        "masks_list=os.listdir(masks_dir)\n",
        "print(len(masks_list))\n",
        "SPEED=dataset[:, 2]\n",
        "print(SPEED[:5])"
      ],
      "execution_count": null,
      "outputs": [
        {
          "output_type": "stream",
          "text": [
            "13144\n",
            "[0. 1. 1. 1. 0.]\n"
          ],
          "name": "stdout"
        }
      ]
    },
    {
      "cell_type": "code",
      "metadata": {
        "colab": {
          "base_uri": "https://localhost:8080/",
          "height": 269
        },
        "id": "c1_-gljgk_2C",
        "outputId": "538071f3-9f28-4c4e-869e-c978e9a64aab"
      },
      "source": [
        "n=np.random.randint(len(masks_list))\n",
        "n=1587\n",
        "mask_path=masks_dir+str(n)+'.npy'\n",
        "mask=np.load(mask_path)\n",
        "plt.figure()\n",
        "mask=cv2.resize(mask, ( 320,240))\n",
        "plt.imshow(mask)\n",
        "plt.imsave('/content/speed_mask.png', mask)"
      ],
      "execution_count": null,
      "outputs": [
        {
          "output_type": "display_data",
          "data": {
            "image/png": "[encoded data removed]",
            "text/plain": [
              "<Figure size 432x288 with 1 Axes>"
            ]
          },
          "metadata": {
            "tags": [],
            "needs_background": "light"
          }
        }
      ]
    },
    {
      "cell_type": "markdown",
      "metadata": {
        "id": "kk18al9qfBCC"
      },
      "source": [
        "### Create X, Y"
      ]
    },
    {
      "cell_type": "code",
      "metadata": {
        "colab": {
          "base_uri": "https://localhost:8080/",
          "height": 725
        },
        "id": "gM576GVKdpPe",
        "outputId": "b368d0c8-3f4c-4bd9-b1fc-7ac865abec84"
      },
      "source": [
        "#X = np.zeros((N,MASK_HEIGHT, MASK_WIDTH= 128, 128, 1), dtype=np.float32)\n",
        "X, Y=[], []\n",
        "i=0\n",
        "for mask in masks_list:\n",
        "  i+=1\n",
        "  if i%500==0:\n",
        "    print(round(i/len( masks_list)*100 ), '%')\n",
        "  id=int(mask[:-4])-1\n",
        "  mask_path=os.path.join(masks_dir, mask)\n",
        "  if id<13797:\n",
        "      mask= np.load(mask_path)\n",
        "      X.append(mask)\n",
        "      Y.append(int(SPEED[id]))"
      ],
      "execution_count": null,
      "outputs": [
        {
          "output_type": "stream",
          "text": [
            "4 %\n",
            "8 %\n",
            "11 %\n",
            "15 %\n",
            "19 %\n",
            "23 %\n",
            "27 %\n",
            "30 %\n",
            "34 %\n",
            "38 %\n",
            "42 %\n",
            "46 %\n",
            "49 %\n",
            "53 %\n",
            "57 %\n",
            "61 %\n",
            "65 %\n",
            "68 %\n",
            "72 %\n",
            "76 %\n",
            "80 %\n",
            "84 %\n"
          ],
          "name": "stdout"
        },
        {
          "output_type": "error",
          "ename": "KeyboardInterrupt",
          "evalue": "ignored",
          "traceback": [
            "\u001b[0;31m---------------------------------------------------------------------------\u001b[0m",
            "\u001b[0;31mKeyboardInterrupt\u001b[0m                         Traceback (most recent call last)",
            "\u001b[0;32m<ipython-input-5-a39bf8536684>\u001b[0m in \u001b[0;36m<module>\u001b[0;34m()\u001b[0m\n\u001b[1;32m      9\u001b[0m   \u001b[0mmask_path\u001b[0m\u001b[0;34m=\u001b[0m\u001b[0mos\u001b[0m\u001b[0;34m.\u001b[0m\u001b[0mpath\u001b[0m\u001b[0;34m.\u001b[0m\u001b[0mjoin\u001b[0m\u001b[0;34m(\u001b[0m\u001b[0mmasks_dir\u001b[0m\u001b[0;34m,\u001b[0m \u001b[0mmask\u001b[0m\u001b[0;34m)\u001b[0m\u001b[0;34m\u001b[0m\u001b[0;34m\u001b[0m\u001b[0m\n\u001b[1;32m     10\u001b[0m   \u001b[0;32mif\u001b[0m \u001b[0mid\u001b[0m\u001b[0;34m<\u001b[0m\u001b[0;36m13797\u001b[0m\u001b[0;34m:\u001b[0m\u001b[0;34m\u001b[0m\u001b[0;34m\u001b[0m\u001b[0m\n\u001b[0;32m---> 11\u001b[0;31m       \u001b[0mmask\u001b[0m\u001b[0;34m=\u001b[0m \u001b[0mnp\u001b[0m\u001b[0;34m.\u001b[0m\u001b[0mload\u001b[0m\u001b[0;34m(\u001b[0m\u001b[0mmask_path\u001b[0m\u001b[0;34m)\u001b[0m\u001b[0;34m\u001b[0m\u001b[0;34m\u001b[0m\u001b[0m\n\u001b[0m\u001b[1;32m     12\u001b[0m       \u001b[0mX\u001b[0m\u001b[0;34m.\u001b[0m\u001b[0mappend\u001b[0m\u001b[0;34m(\u001b[0m\u001b[0mmask\u001b[0m\u001b[0;34m)\u001b[0m\u001b[0;34m\u001b[0m\u001b[0;34m\u001b[0m\u001b[0m\n\u001b[1;32m     13\u001b[0m       \u001b[0mY\u001b[0m\u001b[0;34m.\u001b[0m\u001b[0mappend\u001b[0m\u001b[0;34m(\u001b[0m\u001b[0mint\u001b[0m\u001b[0;34m(\u001b[0m\u001b[0mSPEED\u001b[0m\u001b[0;34m[\u001b[0m\u001b[0mid\u001b[0m\u001b[0;34m]\u001b[0m\u001b[0;34m)\u001b[0m\u001b[0;34m)\u001b[0m\u001b[0;34m\u001b[0m\u001b[0;34m\u001b[0m\u001b[0m\n",
            "\u001b[0;32m/usr/local/lib/python3.7/dist-packages/numpy/lib/npyio.py\u001b[0m in \u001b[0;36mload\u001b[0;34m(file, mmap_mode, allow_pickle, fix_imports, encoding)\u001b[0m\n\u001b[1;32m    421\u001b[0m         \u001b[0m_ZIP_SUFFIX\u001b[0m \u001b[0;34m=\u001b[0m \u001b[0;34mb'PK\\x05\\x06'\u001b[0m \u001b[0;31m# empty zip files start with this\u001b[0m\u001b[0;34m\u001b[0m\u001b[0;34m\u001b[0m\u001b[0m\n\u001b[1;32m    422\u001b[0m         \u001b[0mN\u001b[0m \u001b[0;34m=\u001b[0m \u001b[0mlen\u001b[0m\u001b[0;34m(\u001b[0m\u001b[0mformat\u001b[0m\u001b[0;34m.\u001b[0m\u001b[0mMAGIC_PREFIX\u001b[0m\u001b[0;34m)\u001b[0m\u001b[0;34m\u001b[0m\u001b[0;34m\u001b[0m\u001b[0m\n\u001b[0;32m--> 423\u001b[0;31m         \u001b[0mmagic\u001b[0m \u001b[0;34m=\u001b[0m \u001b[0mfid\u001b[0m\u001b[0;34m.\u001b[0m\u001b[0mread\u001b[0m\u001b[0;34m(\u001b[0m\u001b[0mN\u001b[0m\u001b[0;34m)\u001b[0m\u001b[0;34m\u001b[0m\u001b[0;34m\u001b[0m\u001b[0m\n\u001b[0m\u001b[1;32m    424\u001b[0m         \u001b[0;31m# If the file size is less than N, we need to make sure not\u001b[0m\u001b[0;34m\u001b[0m\u001b[0;34m\u001b[0m\u001b[0;34m\u001b[0m\u001b[0m\n\u001b[1;32m    425\u001b[0m         \u001b[0;31m# to seek past the beginning of the file\u001b[0m\u001b[0;34m\u001b[0m\u001b[0;34m\u001b[0m\u001b[0;34m\u001b[0m\u001b[0m\n",
            "\u001b[0;31mKeyboardInterrupt\u001b[0m: "
          ]
        }
      ]
    },
    {
      "cell_type": "code",
      "metadata": {
        "id": "aIF6Nty4dpPi"
      },
      "source": [
        "print( np.shape(X), np.shape(Y))"
      ],
      "execution_count": null,
      "outputs": []
    },
    {
      "cell_type": "code",
      "metadata": {
        "id": "Z9AkcS9JdpPj"
      },
      "source": [
        "X= np.reshape(X, (13143, MASK_HEIGHT, MASK_WIDTH, 1))\n",
        "Y=np.array(Y)\n",
        "print(np.shape(X), np.shape(Y))"
      ],
      "execution_count": null,
      "outputs": []
    },
    {
      "cell_type": "code",
      "metadata": {
        "id": "pIhL234ndpPl"
      },
      "source": [
        "X_path=code_dir+'data/training_data/X_masks_road_object.npy'\n",
        "np.save(X_path, X)\n",
        "Y_path=code_dir+'data/training_data/Y_masks_road_object.npy'\n",
        "np.save(Y_path, Y)"
      ],
      "execution_count": null,
      "outputs": []
    },
    {
      "cell_type": "markdown",
      "metadata": {
        "id": "GO-NxM3DfP7y"
      },
      "source": [
        "### Load X, Y"
      ]
    },
    {
      "cell_type": "code",
      "metadata": {
        "colab": {
          "base_uri": "https://localhost:8080/"
        },
        "id": "AENyxEQpfSk0",
        "outputId": "3f8a9f27-9f8f-4d72-e045-8648f1293ab4"
      },
      "source": [
        "X_path=code_dir+'data/training_data/X_masks_road_object.npy'\n",
        "X=np.load(X_path)\n",
        "Y_path=code_dir+'data/training_data/Y_masks_road_object.npy'\n",
        "Y=np.load(Y_path)\n",
        "Y=np.array(Y)\n",
        "\n",
        "print(np.shape(X), np.shape(Y))"
      ],
      "execution_count": null,
      "outputs": [
        {
          "output_type": "stream",
          "text": [
            "(13143, 128, 128, 1) (13143,)\n"
          ],
          "name": "stdout"
        }
      ]
    },
    {
      "cell_type": "code",
      "metadata": {
        "colab": {
          "base_uri": "https://localhost:8080/",
          "height": 304
        },
        "id": "oadSTHzmfSk3",
        "outputId": "3cebfc7a-7899-419c-ba7c-c6265d4aa6a6"
      },
      "source": [
        "n=np.random.randint(len(X))\n",
        "mask, angle=X[n], Y[n]\n",
        "print('predicted speed=', angle)\n",
        "mask=np.reshape(mask, (MASK_HEIGHT, MASK_WIDTH))\n",
        "plt.imshow(mask)\n"
      ],
      "execution_count": null,
      "outputs": [
        {
          "output_type": "stream",
          "text": [
            "predicted speed= 1\n"
          ],
          "name": "stdout"
        },
        {
          "output_type": "execute_result",
          "data": {
            "text/plain": [
              "<matplotlib.image.AxesImage at 0x7fab0a4b9750>"
            ]
          },
          "metadata": {
            "tags": []
          },
          "execution_count": 31
        },
        {
          "output_type": "display_data",
          "data": {
            "image/png": "[encoded data removed]",
            "text/plain": [
              "<Figure size 432x288 with 1 Axes>"
            ]
          },
          "metadata": {
            "tags": [],
            "needs_background": "light"
          }
        }
      ]
    },
    {
      "cell_type": "markdown",
      "metadata": {
        "id": "KQVk8IUtf9Dy"
      },
      "source": [
        "## Model"
      ]
    },
    {
      "cell_type": "code",
      "metadata": {
        "id": "EuFDY_Mte8dk"
      },
      "source": [
        "def nvidia_model():\n",
        "  model = Sequential()\n",
        "  model.add(Flatten( input_shape=(MASK_HEIGHT, MASK_WIDTH ,1)))\n",
        "  model.add(Dense(1000,activation='elu'))\n",
        "  model.add(Dropout(0.2))\n",
        "  model.add(Dense(100,activation='elu'))\n",
        "  model.add(Dropout(0.2))\n",
        "  model.add(Dense(50,activation='elu'))\n",
        "  model.add(Dense(10,activation='elu'))\n",
        "  model.add(Dense(1, activation='sigmoid'))\n",
        "  model.compile(loss='binary_crossentropy', metrics=['accuracy'], optimizer=Adam(lr=0.01))\n",
        "\n",
        "  return model"
      ],
      "execution_count": null,
      "outputs": []
    },
    {
      "cell_type": "code",
      "metadata": {
        "id": "wp-DeMAcnnuL"
      },
      "source": [
        "def nvidia_model():\n",
        "  model = Sequential()\n",
        "  model.add(Flatten( input_shape=(MASK_HEIGHT, MASK_WIDTH ,1)))\n",
        "  model.add(Dense(1000,activation='elu'))\n",
        "  # model.add(Dropout(0.2))\n",
        "  # model.add(Dense(200,activation='elu'))\n",
        "  model.add(Dense(50,activation='elu'))\n",
        "  # model.add(Dropout(0.45))\n",
        "  model.add(Dense(10,activation='elu'))\n",
        "  model.add(Dense(1, activation='sigmoid'))\n",
        "  model.compile(loss='binary_crossentropy', metrics=['accuracy'], optimizer=Adam(lr=0.001))\n",
        "\n",
        "  return model"
      ],
      "execution_count": null,
      "outputs": []
    },
    {
      "cell_type": "code",
      "metadata": {
        "id": "nNbFxp-he8dm"
      },
      "source": [
        "model = nvidia_model()\n",
        "# print(model.summary())"
      ],
      "execution_count": null,
      "outputs": []
    },
    {
      "cell_type": "code",
      "metadata": {
        "id": "v5rOyXZtgFRD",
        "colab": {
          "base_uri": "https://localhost:8080/"
        },
        "outputId": "b98c8ed9-0439-4029-87d4-b22173c7b6c2"
      },
      "source": [
        "X_train, X_test, Y_train, Y_test = train_test_split(X, Y, test_size=0.1, shuffle=True)\n",
        "print(len(X_train), len(X_test), np.shape(X_train[0]), np.shape(Y_train))"
      ],
      "execution_count": null,
      "outputs": [
        {
          "output_type": "stream",
          "text": [
            "11828 1315 (128, 128, 1) (11828,)\n"
          ],
          "name": "stdout"
        }
      ]
    },
    {
      "cell_type": "code",
      "metadata": {
        "colab": {
          "base_uri": "https://localhost:8080/"
        },
        "id": "zR-SFwtdgFRG",
        "outputId": "f3cba33d-7c7d-448f-e3d4-b9774f23df65"
      },
      "source": [
        "earlystopper = EarlyStopping(patience=5, verbose=1)\n",
        "checkpointer = ModelCheckpoint('/content/speed.h5', verbose=1, save_best_only=True)\n",
        "history=model.fit(X_train,Y_train,batch_size=64,epochs=30, validation_data=(X_test, Y_test), callbacks=[earlystopper, checkpointer]) #validation_steps=80"
      ],
      "execution_count": null,
      "outputs": [
        {
          "output_type": "stream",
          "text": [
            "Epoch 1/30\n",
            "185/185 [==============================] - 5s 9ms/step - loss: 0.7388 - accuracy: 0.8812 - val_loss: 0.1801 - val_accuracy: 0.9437\n",
            "\n",
            "Epoch 00001: val_loss improved from inf to 0.18012, saving model to /content/speed.h5\n",
            "Epoch 2/30\n",
            "185/185 [==============================] - 1s 8ms/step - loss: 0.1779 - accuracy: 0.9493 - val_loss: 0.1618 - val_accuracy: 0.9498\n",
            "\n",
            "Epoch 00002: val_loss improved from 0.18012 to 0.16175, saving model to /content/speed.h5\n",
            "Epoch 3/30\n",
            "185/185 [==============================] - 1s 8ms/step - loss: 0.1305 - accuracy: 0.9621 - val_loss: 0.1100 - val_accuracy: 0.9665\n",
            "\n",
            "Epoch 00003: val_loss improved from 0.16175 to 0.11004, saving model to /content/speed.h5\n",
            "Epoch 4/30\n",
            "185/185 [==============================] - 1s 8ms/step - loss: 0.1248 - accuracy: 0.9663 - val_loss: 0.1007 - val_accuracy: 0.9643\n",
            "\n",
            "Epoch 00004: val_loss improved from 0.11004 to 0.10071, saving model to /content/speed.h5\n",
            "Epoch 5/30\n",
            "185/185 [==============================] - 1s 8ms/step - loss: 0.1021 - accuracy: 0.9705 - val_loss: 0.1046 - val_accuracy: 0.9658\n",
            "\n",
            "Epoch 00005: val_loss did not improve from 0.10071\n",
            "Epoch 6/30\n",
            "185/185 [==============================] - 1s 8ms/step - loss: 0.0962 - accuracy: 0.9726 - val_loss: 0.1112 - val_accuracy: 0.9673\n",
            "\n",
            "Epoch 00006: val_loss did not improve from 0.10071\n",
            "Epoch 7/30\n",
            "185/185 [==============================] - 1s 8ms/step - loss: 0.0792 - accuracy: 0.9773 - val_loss: 0.0942 - val_accuracy: 0.9696\n",
            "\n",
            "Epoch 00007: val_loss improved from 0.10071 to 0.09415, saving model to /content/speed.h5\n",
            "Epoch 8/30\n",
            "185/185 [==============================] - 1s 8ms/step - loss: 0.0689 - accuracy: 0.9804 - val_loss: 0.0840 - val_accuracy: 0.9696\n",
            "\n",
            "Epoch 00008: val_loss improved from 0.09415 to 0.08401, saving model to /content/speed.h5\n",
            "Epoch 9/30\n",
            "185/185 [==============================] - 2s 8ms/step - loss: 0.0703 - accuracy: 0.9810 - val_loss: 0.1298 - val_accuracy: 0.9658\n",
            "\n",
            "Epoch 00009: val_loss did not improve from 0.08401\n",
            "Epoch 10/30\n",
            "185/185 [==============================] - 1s 8ms/step - loss: 0.0650 - accuracy: 0.9824 - val_loss: 0.1471 - val_accuracy: 0.9620\n",
            "\n",
            "Epoch 00010: val_loss did not improve from 0.08401\n",
            "Epoch 11/30\n",
            "185/185 [==============================] - 1s 8ms/step - loss: 0.0603 - accuracy: 0.9833 - val_loss: 0.1130 - val_accuracy: 0.9711\n",
            "\n",
            "Epoch 00011: val_loss did not improve from 0.08401\n",
            "Epoch 12/30\n",
            "185/185 [==============================] - 1s 8ms/step - loss: 0.0953 - accuracy: 0.9781 - val_loss: 0.1054 - val_accuracy: 0.9681\n",
            "\n",
            "Epoch 00012: val_loss did not improve from 0.08401\n",
            "Epoch 13/30\n",
            "185/185 [==============================] - 1s 8ms/step - loss: 0.0623 - accuracy: 0.9853 - val_loss: 0.0991 - val_accuracy: 0.9734\n",
            "\n",
            "Epoch 00013: val_loss did not improve from 0.08401\n",
            "Epoch 00013: early stopping\n"
          ],
          "name": "stdout"
        }
      ]
    },
    {
      "cell_type": "markdown",
      "metadata": {
        "id": "wVN_nPzigWoT"
      },
      "source": [
        "## Evaluate"
      ]
    },
    {
      "cell_type": "code",
      "metadata": {
        "id": "0sJuQyeMgZik"
      },
      "source": [
        "model_path='/content/speed.h5'\n",
        "model=keras.models.load_model(model_path)"
      ],
      "execution_count": null,
      "outputs": []
    },
    {
      "cell_type": "code",
      "metadata": {
        "colab": {
          "base_uri": "https://localhost:8080/",
          "height": 304
        },
        "id": "Q-k4mSn4gZim",
        "outputId": "dc8bda7f-480a-498b-aec0-f15ef3aacfcf"
      },
      "source": [
        "import time\n",
        "n=np.random.randint(len(X_test))\n",
        "mask, speed=X_test[n], Y_test[n]\n",
        "t1=time.perf_counter()\n",
        "\n",
        "predicted_speed=model.predict(np.reshape(mask,  (1, MASK_HEIGHT, MASK_WIDTH,1 ) ))\n",
        "t2=time.perf_counter()\n",
        "\n",
        "print('predicted speed=', round(float(predicted_speed)), '; target speed=', speed, 'time=', t2-t1)\n",
        "\n",
        "mask=np.reshape(mask, (MASK_HEIGHT, MASK_WIDTH))\n",
        "plt.imshow(mask)"
      ],
      "execution_count": null,
      "outputs": [
        {
          "output_type": "stream",
          "text": [
            "predicted speed= 0 ; target speed= 0 time= 0.04303480500038859\n"
          ],
          "name": "stdout"
        },
        {
          "output_type": "execute_result",
          "data": {
            "text/plain": [
              "<matplotlib.image.AxesImage at 0x7f42de1f5490>"
            ]
          },
          "metadata": {
            "tags": []
          },
          "execution_count": 194
        },
        {
          "output_type": "display_data",
          "data": {
            "image/png": "[encoded data removed]",
            "text/plain": [
              "<Figure size 432x288 with 1 Axes>"
            ]
          },
          "metadata": {
            "tags": []
          }
        }
      ]
    },
    {
      "cell_type": "code",
      "metadata": {
        "id": "cP7wTWrb4sTO"
      },
      "source": [
        "speed_model_path=code_dir+'YOLOv3_TF2/weights/speed.h5'\n",
        "model.save(speed_model_path)"
      ],
      "execution_count": null,
      "outputs": []
    },
    {
      "cell_type": "markdown",
      "metadata": {
        "id": "h9zkaoGMH8O8"
      },
      "source": [
        "# Draft\n"
      ]
    },
    {
      "cell_type": "code",
      "metadata": {
        "id": "sqrqYoi4vGlc"
      },
      "source": [
        "def nvidia_model():\n",
        "  model = Sequential()\n",
        "  model.add(Conv2D(24, kernel_size= (5,5), strides=(2,2), input_shape=(INPUT_HEIGHT, INPUT_WIDTH ,1), activation='elu'))\n",
        "  model.add(Conv2D(36, kernel_size= (5,5), strides=(2,2), activation='elu'))\n",
        "  model.add(Conv2D(48, kernel_size= (5,5), strides=(2,2), activation='elu'))\n",
        "  model.add(Conv2D(64, kernel_size= (3,3), activation='elu')) \n",
        "  model.add(Conv2D(64, kernel_size= (3,3), activation='elu'))\n",
        "  model.add(Dropout(0.2)) #randomly turn 50% of inputs into 0 45\n",
        "\n",
        "  model.add(Flatten())\n",
        "  model.add(Dense(100,activation='elu'))\n",
        "  model.add(Dropout(0.2))\n",
        "  model.add(Dense(50,activation='elu'))\n",
        "  model.add(Dense(10,activation='elu'))\n",
        "  model.add(Dense(1)) #outputs the proposed steering angle\n",
        "\n",
        "  model.compile(loss='mse', optimizer=Adam(lr=0.001))\n",
        "\n",
        "  return model"
      ],
      "execution_count": null,
      "outputs": []
    },
    {
      "cell_type": "code",
      "metadata": {
        "id": "xyxY_Dj9WQsp"
      },
      "source": [
        "def nvidia_model():\n",
        "  model = Sequential()\n",
        "  model.add(Flatten( input_shape=(INPUT_HEIGHT, INPUT_WIDTH ,1)))\n",
        "  model.add(Dense(1000,activation='elu'))\n",
        "  model.add(Dropout(0.2))\n",
        "  model.add(Dense(100,activation='elu'))\n",
        "  model.add(Dropout(0.2))\n",
        "  model.add(Dense(50,activation='elu'))\n",
        "  model.add(Dense(10,activation='elu'))\n",
        "  model.add(Dense(1))# , activation='sigmoid')) #outputs the proposed steering angle\n",
        "\n",
        "  model.compile(loss='mse', optimizer=Adam(lr=0.001))\n",
        "\n",
        "  return model"
      ],
      "execution_count": null,
      "outputs": []
    }
  ]
}